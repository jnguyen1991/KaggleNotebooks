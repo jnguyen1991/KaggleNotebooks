{
 "cells": [
  {
   "cell_type": "code",
   "execution_count": 1,
   "id": "8c062a65",
   "metadata": {
    "_cell_guid": "b1076dfc-b9ad-4769-8c92-a6c4dae69d19",
    "_uuid": "8f2839f25d086af736a60e9eeb907d3b93b6e0e5",
    "execution": {
     "iopub.execute_input": "2023-06-01T02:14:06.035421Z",
     "iopub.status.busy": "2023-06-01T02:14:06.034998Z",
     "iopub.status.idle": "2023-06-01T02:14:06.050859Z",
     "shell.execute_reply": "2023-06-01T02:14:06.049860Z"
    },
    "papermill": {
     "duration": 0.028545,
     "end_time": "2023-06-01T02:14:06.053668",
     "exception": false,
     "start_time": "2023-06-01T02:14:06.025123",
     "status": "completed"
    },
    "tags": []
   },
   "outputs": [
    {
     "name": "stdout",
     "output_type": "stream",
     "text": [
      "/kaggle/input/playground-series-s3e16/sample_submission.csv\n",
      "/kaggle/input/playground-series-s3e16/train.csv\n",
      "/kaggle/input/playground-series-s3e16/test.csv\n"
     ]
    }
   ],
   "source": [
    "# This Python 3 environment comes with many helpful analytics libraries installed\n",
    "# It is defined by the kaggle/python Docker image: https://github.com/kaggle/docker-python\n",
    "# For example, here's several helpful packages to load\n",
    "\n",
    "import numpy as np # linear algebra\n",
    "import pandas as pd # data processing, CSV file I/O (e.g. pd.read_csv)\n",
    "\n",
    "\n",
    "# Input data files are available in the read-only \"../input/\" directory\n",
    "# For example, running this (by clicking run or pressing Shift+Enter) will list all files under the input directory\n",
    "\n",
    "import os\n",
    "for dirname, _, filenames in os.walk('/kaggle/input'):\n",
    "    for filename in filenames:\n",
    "        print(os.path.join(dirname, filename))\n",
    "\n",
    "# You can write up to 20GB to the current directory (/kaggle/working/) that gets preserved as output when you create a version using \"Save & Run All\" \n",
    "# You can also write temporary files to /kaggle/temp/, but they won't be saved outside of the current session"
   ]
  },
  {
   "cell_type": "code",
   "execution_count": 2,
   "id": "bd0afde1",
   "metadata": {
    "execution": {
     "iopub.execute_input": "2023-06-01T02:14:06.070594Z",
     "iopub.status.busy": "2023-06-01T02:14:06.070174Z",
     "iopub.status.idle": "2023-06-01T02:14:18.369599Z",
     "shell.execute_reply": "2023-06-01T02:14:18.368364Z"
    },
    "papermill": {
     "duration": 12.311137,
     "end_time": "2023-06-01T02:14:18.372516",
     "exception": false,
     "start_time": "2023-06-01T02:14:06.061379",
     "status": "completed"
    },
    "tags": []
   },
   "outputs": [
    {
     "name": "stderr",
     "output_type": "stream",
     "text": [
      "/opt/conda/lib/python3.10/site-packages/tensorflow_io/python/ops/__init__.py:98: UserWarning: unable to load libtensorflow_io_plugins.so: unable to open file: libtensorflow_io_plugins.so, from paths: ['/opt/conda/lib/python3.10/site-packages/tensorflow_io/python/ops/libtensorflow_io_plugins.so']\n",
      "caused by: ['/opt/conda/lib/python3.10/site-packages/tensorflow_io/python/ops/libtensorflow_io_plugins.so: undefined symbol: _ZN3tsl6StatusC1EN10tensorflow5error4CodeESt17basic_string_viewIcSt11char_traitsIcEENS_14SourceLocationE']\n",
      "  warnings.warn(f\"unable to load libtensorflow_io_plugins.so: {e}\")\n",
      "/opt/conda/lib/python3.10/site-packages/tensorflow_io/python/ops/__init__.py:104: UserWarning: file system plugins are not loaded: unable to open file: libtensorflow_io.so, from paths: ['/opt/conda/lib/python3.10/site-packages/tensorflow_io/python/ops/libtensorflow_io.so']\n",
      "caused by: ['/opt/conda/lib/python3.10/site-packages/tensorflow_io/python/ops/libtensorflow_io.so: undefined symbol: _ZTVN10tensorflow13GcsFileSystemE']\n",
      "  warnings.warn(f\"file system plugins are not loaded: {e}\")\n"
     ]
    }
   ],
   "source": [
    "from sklearn.model_selection import train_test_split\n",
    "from sklearn.tree import DecisionTreeRegressor\n",
    "from sklearn.model_selection import cross_val_score\n",
    "import tensorflow as tf"
   ]
  },
  {
   "cell_type": "code",
   "execution_count": 3,
   "id": "e64e2f54",
   "metadata": {
    "execution": {
     "iopub.execute_input": "2023-06-01T02:14:18.389690Z",
     "iopub.status.busy": "2023-06-01T02:14:18.388871Z",
     "iopub.status.idle": "2023-06-01T02:14:18.399436Z",
     "shell.execute_reply": "2023-06-01T02:14:18.398273Z"
    },
    "papermill": {
     "duration": 0.022371,
     "end_time": "2023-06-01T02:14:18.402256",
     "exception": false,
     "start_time": "2023-06-01T02:14:18.379885",
     "status": "completed"
    },
    "tags": []
   },
   "outputs": [],
   "source": [
    "def prepare_data(fpath, train=True):\n",
    "    def normalize(col):\n",
    "        mean = col.mean()\n",
    "        std = col.std()\n",
    "        col -= mean\n",
    "        col /= std\n",
    "        return col\n",
    "    df = pd.read_csv(fpath)\n",
    "    df = pd.get_dummies(df, columns=[\"Sex\"])\n",
    "    df.pop(\"id\")\n",
    "    if train:\n",
    "        y = df.pop(\"Age\")\n",
    "    else:\n",
    "        y = None\n",
    "    X = df\n",
    "    \n",
    "    X[\"Volume\"] = X[\"Length\"] * X[\"Height\"] * X[\"Diameter\"]\n",
    "    for col in [\"Weight\",\"Shucked Weight\",\"Viscera Weight\",\"Shell Weight\",\"Volume\"]:\n",
    "        X[col] = normalize(X[col])\n",
    "    return X, y"
   ]
  },
  {
   "cell_type": "code",
   "execution_count": 4,
   "id": "59179114",
   "metadata": {
    "execution": {
     "iopub.execute_input": "2023-06-01T02:14:18.419691Z",
     "iopub.status.busy": "2023-06-01T02:14:18.418681Z",
     "iopub.status.idle": "2023-06-01T02:14:18.680866Z",
     "shell.execute_reply": "2023-06-01T02:14:18.679582Z"
    },
    "papermill": {
     "duration": 0.274243,
     "end_time": "2023-06-01T02:14:18.683940",
     "exception": false,
     "start_time": "2023-06-01T02:14:18.409697",
     "status": "completed"
    },
    "tags": []
   },
   "outputs": [],
   "source": [
    "df = pd.read_csv(\"/kaggle/input/playground-series-s3e16/train.csv\")\n",
    "df = pd.get_dummies(df, columns=[\"Sex\"])\n",
    "df.pop(\"id\")\n",
    "y = df.pop(\"Age\")\n",
    "X = df"
   ]
  },
  {
   "cell_type": "code",
   "execution_count": 5,
   "id": "36f93094",
   "metadata": {
    "execution": {
     "iopub.execute_input": "2023-06-01T02:14:18.700223Z",
     "iopub.status.busy": "2023-06-01T02:14:18.699767Z",
     "iopub.status.idle": "2023-06-01T02:14:18.710863Z",
     "shell.execute_reply": "2023-06-01T02:14:18.709534Z"
    },
    "papermill": {
     "duration": 0.022212,
     "end_time": "2023-06-01T02:14:18.713457",
     "exception": false,
     "start_time": "2023-06-01T02:14:18.691245",
     "status": "completed"
    },
    "tags": []
   },
   "outputs": [
    {
     "data": {
      "text/plain": [
       "0         9\n",
       "1         8\n",
       "2         9\n",
       "3        11\n",
       "4         8\n",
       "         ..\n",
       "74046    10\n",
       "74047     6\n",
       "74048    10\n",
       "74049     8\n",
       "74050     6\n",
       "Name: Age, Length: 74051, dtype: int64"
      ]
     },
     "execution_count": 5,
     "metadata": {},
     "output_type": "execute_result"
    }
   ],
   "source": [
    "y"
   ]
  },
  {
   "cell_type": "code",
   "execution_count": 6,
   "id": "14533d63",
   "metadata": {
    "execution": {
     "iopub.execute_input": "2023-06-01T02:14:18.733241Z",
     "iopub.status.busy": "2023-06-01T02:14:18.732152Z",
     "iopub.status.idle": "2023-06-01T02:14:18.737857Z",
     "shell.execute_reply": "2023-06-01T02:14:18.737068Z"
    },
    "papermill": {
     "duration": 0.017432,
     "end_time": "2023-06-01T02:14:18.740158",
     "exception": false,
     "start_time": "2023-06-01T02:14:18.722726",
     "status": "completed"
    },
    "tags": []
   },
   "outputs": [],
   "source": [
    "def normalize(col):\n",
    "    mean = col.mean()\n",
    "    std = col.std()\n",
    "    col -= mean\n",
    "    col /= std\n",
    "    return col"
   ]
  },
  {
   "cell_type": "code",
   "execution_count": 7,
   "id": "9ea6d715",
   "metadata": {
    "execution": {
     "iopub.execute_input": "2023-06-01T02:14:18.757226Z",
     "iopub.status.busy": "2023-06-01T02:14:18.756762Z",
     "iopub.status.idle": "2023-06-01T02:14:18.773423Z",
     "shell.execute_reply": "2023-06-01T02:14:18.772147Z"
    },
    "papermill": {
     "duration": 0.028363,
     "end_time": "2023-06-01T02:14:18.776116",
     "exception": false,
     "start_time": "2023-06-01T02:14:18.747753",
     "status": "completed"
    },
    "tags": []
   },
   "outputs": [
    {
     "data": {
      "text/plain": [
       "0        0.441801\n",
       "1       -1.025191\n",
       "2        0.110075\n",
       "3        2.156468\n",
       "4       -0.007598\n",
       "           ...   \n",
       "74046    2.156468\n",
       "74047   -1.022950\n",
       "74048    0.482147\n",
       "74049   -0.523119\n",
       "74050   -1.423039\n",
       "Name: Weight, Length: 74051, dtype: float64"
      ]
     },
     "execution_count": 7,
     "metadata": {},
     "output_type": "execute_result"
    }
   ],
   "source": [
    "normalize(X[\"Weight\"])"
   ]
  },
  {
   "cell_type": "code",
   "execution_count": 8,
   "id": "2e9c3041",
   "metadata": {
    "execution": {
     "iopub.execute_input": "2023-06-01T02:14:18.794227Z",
     "iopub.status.busy": "2023-06-01T02:14:18.792680Z",
     "iopub.status.idle": "2023-06-01T02:14:18.829486Z",
     "shell.execute_reply": "2023-06-01T02:14:18.828149Z"
    },
    "papermill": {
     "duration": 0.048807,
     "end_time": "2023-06-01T02:14:18.832524",
     "exception": false,
     "start_time": "2023-06-01T02:14:18.783717",
     "status": "completed"
    },
    "tags": []
   },
   "outputs": [
    {
     "data": {
      "text/html": [
       "<div>\n",
       "<style scoped>\n",
       "    .dataframe tbody tr th:only-of-type {\n",
       "        vertical-align: middle;\n",
       "    }\n",
       "\n",
       "    .dataframe tbody tr th {\n",
       "        vertical-align: top;\n",
       "    }\n",
       "\n",
       "    .dataframe thead th {\n",
       "        text-align: right;\n",
       "    }\n",
       "</style>\n",
       "<table border=\"1\" class=\"dataframe\">\n",
       "  <thead>\n",
       "    <tr style=\"text-align: right;\">\n",
       "      <th></th>\n",
       "      <th>Length</th>\n",
       "      <th>Diameter</th>\n",
       "      <th>Height</th>\n",
       "      <th>Weight</th>\n",
       "      <th>Shucked Weight</th>\n",
       "      <th>Viscera Weight</th>\n",
       "      <th>Shell Weight</th>\n",
       "      <th>Sex_F</th>\n",
       "      <th>Sex_I</th>\n",
       "      <th>Sex_M</th>\n",
       "    </tr>\n",
       "  </thead>\n",
       "  <tbody>\n",
       "    <tr>\n",
       "      <th>0</th>\n",
       "      <td>1.5250</td>\n",
       "      <td>1.1750</td>\n",
       "      <td>0.3750</td>\n",
       "      <td>0.441801</td>\n",
       "      <td>12.728926</td>\n",
       "      <td>6.647958</td>\n",
       "      <td>8.348928</td>\n",
       "      <td>0</td>\n",
       "      <td>1</td>\n",
       "      <td>0</td>\n",
       "    </tr>\n",
       "    <tr>\n",
       "      <th>1</th>\n",
       "      <td>1.1000</td>\n",
       "      <td>0.8250</td>\n",
       "      <td>0.2750</td>\n",
       "      <td>-1.025191</td>\n",
       "      <td>4.521745</td>\n",
       "      <td>2.324659</td>\n",
       "      <td>3.401940</td>\n",
       "      <td>0</td>\n",
       "      <td>1</td>\n",
       "      <td>0</td>\n",
       "    </tr>\n",
       "    <tr>\n",
       "      <th>2</th>\n",
       "      <td>1.3875</td>\n",
       "      <td>1.1125</td>\n",
       "      <td>0.3750</td>\n",
       "      <td>0.110075</td>\n",
       "      <td>11.339800</td>\n",
       "      <td>5.556502</td>\n",
       "      <td>6.662133</td>\n",
       "      <td>0</td>\n",
       "      <td>0</td>\n",
       "      <td>1</td>\n",
       "    </tr>\n",
       "    <tr>\n",
       "      <th>3</th>\n",
       "      <td>1.7000</td>\n",
       "      <td>1.4125</td>\n",
       "      <td>0.5000</td>\n",
       "      <td>2.156468</td>\n",
       "      <td>20.354941</td>\n",
       "      <td>10.991839</td>\n",
       "      <td>14.996885</td>\n",
       "      <td>1</td>\n",
       "      <td>0</td>\n",
       "      <td>0</td>\n",
       "    </tr>\n",
       "    <tr>\n",
       "      <th>4</th>\n",
       "      <td>1.2500</td>\n",
       "      <td>1.0125</td>\n",
       "      <td>0.3375</td>\n",
       "      <td>-0.007598</td>\n",
       "      <td>11.977664</td>\n",
       "      <td>4.507570</td>\n",
       "      <td>5.953395</td>\n",
       "      <td>0</td>\n",
       "      <td>1</td>\n",
       "      <td>0</td>\n",
       "    </tr>\n",
       "    <tr>\n",
       "      <th>...</th>\n",
       "      <td>...</td>\n",
       "      <td>...</td>\n",
       "      <td>...</td>\n",
       "      <td>...</td>\n",
       "      <td>...</td>\n",
       "      <td>...</td>\n",
       "      <td>...</td>\n",
       "      <td>...</td>\n",
       "      <td>...</td>\n",
       "      <td>...</td>\n",
       "    </tr>\n",
       "    <tr>\n",
       "      <th>74046</th>\n",
       "      <td>1.6625</td>\n",
       "      <td>1.2625</td>\n",
       "      <td>0.4375</td>\n",
       "      <td>2.156468</td>\n",
       "      <td>20.680960</td>\n",
       "      <td>10.361742</td>\n",
       "      <td>12.332033</td>\n",
       "      <td>1</td>\n",
       "      <td>0</td>\n",
       "      <td>0</td>\n",
       "    </tr>\n",
       "    <tr>\n",
       "      <th>74047</th>\n",
       "      <td>1.0750</td>\n",
       "      <td>0.8625</td>\n",
       "      <td>0.2750</td>\n",
       "      <td>-1.022950</td>\n",
       "      <td>4.323299</td>\n",
       "      <td>2.296310</td>\n",
       "      <td>3.543687</td>\n",
       "      <td>0</td>\n",
       "      <td>1</td>\n",
       "      <td>0</td>\n",
       "    </tr>\n",
       "    <tr>\n",
       "      <th>74048</th>\n",
       "      <td>1.4875</td>\n",
       "      <td>1.2000</td>\n",
       "      <td>0.4125</td>\n",
       "      <td>0.482147</td>\n",
       "      <td>12.303683</td>\n",
       "      <td>7.540967</td>\n",
       "      <td>8.079607</td>\n",
       "      <td>1</td>\n",
       "      <td>0</td>\n",
       "      <td>0</td>\n",
       "    </tr>\n",
       "    <tr>\n",
       "      <th>74049</th>\n",
       "      <td>1.2125</td>\n",
       "      <td>0.9625</td>\n",
       "      <td>0.3125</td>\n",
       "      <td>-0.523119</td>\n",
       "      <td>8.972617</td>\n",
       "      <td>2.919999</td>\n",
       "      <td>4.280774</td>\n",
       "      <td>0</td>\n",
       "      <td>1</td>\n",
       "      <td>0</td>\n",
       "    </tr>\n",
       "    <tr>\n",
       "      <th>74050</th>\n",
       "      <td>0.9125</td>\n",
       "      <td>0.6750</td>\n",
       "      <td>0.2000</td>\n",
       "      <td>-1.423039</td>\n",
       "      <td>2.055339</td>\n",
       "      <td>1.034757</td>\n",
       "      <td>1.700970</td>\n",
       "      <td>0</td>\n",
       "      <td>1</td>\n",
       "      <td>0</td>\n",
       "    </tr>\n",
       "  </tbody>\n",
       "</table>\n",
       "<p>74051 rows × 10 columns</p>\n",
       "</div>"
      ],
      "text/plain": [
       "       Length  Diameter  Height    Weight  Shucked Weight  Viscera Weight  \\\n",
       "0      1.5250    1.1750  0.3750  0.441801       12.728926        6.647958   \n",
       "1      1.1000    0.8250  0.2750 -1.025191        4.521745        2.324659   \n",
       "2      1.3875    1.1125  0.3750  0.110075       11.339800        5.556502   \n",
       "3      1.7000    1.4125  0.5000  2.156468       20.354941       10.991839   \n",
       "4      1.2500    1.0125  0.3375 -0.007598       11.977664        4.507570   \n",
       "...       ...       ...     ...       ...             ...             ...   \n",
       "74046  1.6625    1.2625  0.4375  2.156468       20.680960       10.361742   \n",
       "74047  1.0750    0.8625  0.2750 -1.022950        4.323299        2.296310   \n",
       "74048  1.4875    1.2000  0.4125  0.482147       12.303683        7.540967   \n",
       "74049  1.2125    0.9625  0.3125 -0.523119        8.972617        2.919999   \n",
       "74050  0.9125    0.6750  0.2000 -1.423039        2.055339        1.034757   \n",
       "\n",
       "       Shell Weight  Sex_F  Sex_I  Sex_M  \n",
       "0          8.348928      0      1      0  \n",
       "1          3.401940      0      1      0  \n",
       "2          6.662133      0      0      1  \n",
       "3         14.996885      1      0      0  \n",
       "4          5.953395      0      1      0  \n",
       "...             ...    ...    ...    ...  \n",
       "74046     12.332033      1      0      0  \n",
       "74047      3.543687      0      1      0  \n",
       "74048      8.079607      1      0      0  \n",
       "74049      4.280774      0      1      0  \n",
       "74050      1.700970      0      1      0  \n",
       "\n",
       "[74051 rows x 10 columns]"
      ]
     },
     "execution_count": 8,
     "metadata": {},
     "output_type": "execute_result"
    }
   ],
   "source": [
    "X"
   ]
  },
  {
   "cell_type": "code",
   "execution_count": 9,
   "id": "63470b62",
   "metadata": {
    "execution": {
     "iopub.execute_input": "2023-06-01T02:14:18.851435Z",
     "iopub.status.busy": "2023-06-01T02:14:18.850266Z",
     "iopub.status.idle": "2023-06-01T02:14:18.858757Z",
     "shell.execute_reply": "2023-06-01T02:14:18.857451Z"
    },
    "papermill": {
     "duration": 0.021068,
     "end_time": "2023-06-01T02:14:18.861853",
     "exception": false,
     "start_time": "2023-06-01T02:14:18.840785",
     "status": "completed"
    },
    "tags": []
   },
   "outputs": [],
   "source": [
    "X[\"Volume\"] = X[\"Length\"] * X[\"Height\"] * X[\"Diameter\"]"
   ]
  },
  {
   "cell_type": "code",
   "execution_count": 10,
   "id": "c33a1051",
   "metadata": {
    "execution": {
     "iopub.execute_input": "2023-06-01T02:14:18.880295Z",
     "iopub.status.busy": "2023-06-01T02:14:18.879859Z",
     "iopub.status.idle": "2023-06-01T02:14:18.919572Z",
     "shell.execute_reply": "2023-06-01T02:14:18.918297Z"
    },
    "papermill": {
     "duration": 0.052067,
     "end_time": "2023-06-01T02:14:18.922329",
     "exception": false,
     "start_time": "2023-06-01T02:14:18.870262",
     "status": "completed"
    },
    "tags": []
   },
   "outputs": [
    {
     "data": {
      "text/html": [
       "<div>\n",
       "<style scoped>\n",
       "    .dataframe tbody tr th:only-of-type {\n",
       "        vertical-align: middle;\n",
       "    }\n",
       "\n",
       "    .dataframe tbody tr th {\n",
       "        vertical-align: top;\n",
       "    }\n",
       "\n",
       "    .dataframe thead th {\n",
       "        text-align: right;\n",
       "    }\n",
       "</style>\n",
       "<table border=\"1\" class=\"dataframe\">\n",
       "  <thead>\n",
       "    <tr style=\"text-align: right;\">\n",
       "      <th></th>\n",
       "      <th>Length</th>\n",
       "      <th>Diameter</th>\n",
       "      <th>Height</th>\n",
       "      <th>Weight</th>\n",
       "      <th>Shucked Weight</th>\n",
       "      <th>Viscera Weight</th>\n",
       "      <th>Shell Weight</th>\n",
       "      <th>Sex_F</th>\n",
       "      <th>Sex_I</th>\n",
       "      <th>Sex_M</th>\n",
       "      <th>Volume</th>\n",
       "    </tr>\n",
       "  </thead>\n",
       "  <tbody>\n",
       "    <tr>\n",
       "      <th>0</th>\n",
       "      <td>1.5250</td>\n",
       "      <td>1.1750</td>\n",
       "      <td>0.3750</td>\n",
       "      <td>0.441801</td>\n",
       "      <td>0.467185</td>\n",
       "      <td>0.569182</td>\n",
       "      <td>0.453373</td>\n",
       "      <td>0</td>\n",
       "      <td>1</td>\n",
       "      <td>0</td>\n",
       "      <td>0.438171</td>\n",
       "    </tr>\n",
       "    <tr>\n",
       "      <th>1</th>\n",
       "      <td>1.1000</td>\n",
       "      <td>0.8250</td>\n",
       "      <td>0.2750</td>\n",
       "      <td>-1.025191</td>\n",
       "      <td>-0.993681</td>\n",
       "      <td>-0.978873</td>\n",
       "      <td>-0.926782</td>\n",
       "      <td>0</td>\n",
       "      <td>1</td>\n",
       "      <td>0</td>\n",
       "      <td>-0.966462</td>\n",
       "    </tr>\n",
       "    <tr>\n",
       "      <th>2</th>\n",
       "      <td>1.3875</td>\n",
       "      <td>1.1125</td>\n",
       "      <td>0.3750</td>\n",
       "      <td>0.110075</td>\n",
       "      <td>0.219923</td>\n",
       "      <td>0.178362</td>\n",
       "      <td>-0.017224</td>\n",
       "      <td>0</td>\n",
       "      <td>0</td>\n",
       "      <td>1</td>\n",
       "      <td>0.128555</td>\n",
       "    </tr>\n",
       "    <tr>\n",
       "      <th>3</th>\n",
       "      <td>1.7000</td>\n",
       "      <td>1.4125</td>\n",
       "      <td>0.5000</td>\n",
       "      <td>2.156468</td>\n",
       "      <td>1.824604</td>\n",
       "      <td>2.124608</td>\n",
       "      <td>2.308079</td>\n",
       "      <td>1</td>\n",
       "      <td>0</td>\n",
       "      <td>0</td>\n",
       "      <td>2.196235</td>\n",
       "    </tr>\n",
       "    <tr>\n",
       "      <th>4</th>\n",
       "      <td>1.2500</td>\n",
       "      <td>1.0125</td>\n",
       "      <td>0.3375</td>\n",
       "      <td>-0.007598</td>\n",
       "      <td>0.333461</td>\n",
       "      <td>-0.197232</td>\n",
       "      <td>-0.214954</td>\n",
       "      <td>0</td>\n",
       "      <td>1</td>\n",
       "      <td>0</td>\n",
       "      <td>-0.375911</td>\n",
       "    </tr>\n",
       "    <tr>\n",
       "      <th>...</th>\n",
       "      <td>...</td>\n",
       "      <td>...</td>\n",
       "      <td>...</td>\n",
       "      <td>...</td>\n",
       "      <td>...</td>\n",
       "      <td>...</td>\n",
       "      <td>...</td>\n",
       "      <td>...</td>\n",
       "      <td>...</td>\n",
       "      <td>...</td>\n",
       "      <td>...</td>\n",
       "    </tr>\n",
       "    <tr>\n",
       "      <th>74046</th>\n",
       "      <td>1.6625</td>\n",
       "      <td>1.2625</td>\n",
       "      <td>0.4375</td>\n",
       "      <td>2.156468</td>\n",
       "      <td>1.882635</td>\n",
       "      <td>1.898987</td>\n",
       "      <td>1.564615</td>\n",
       "      <td>1</td>\n",
       "      <td>0</td>\n",
       "      <td>0</td>\n",
       "      <td>1.257287</td>\n",
       "    </tr>\n",
       "    <tr>\n",
       "      <th>74047</th>\n",
       "      <td>1.0750</td>\n",
       "      <td>0.8625</td>\n",
       "      <td>0.2750</td>\n",
       "      <td>-1.022950</td>\n",
       "      <td>-1.029004</td>\n",
       "      <td>-0.989024</td>\n",
       "      <td>-0.887236</td>\n",
       "      <td>0</td>\n",
       "      <td>1</td>\n",
       "      <td>0</td>\n",
       "      <td>-0.948458</td>\n",
       "    </tr>\n",
       "    <tr>\n",
       "      <th>74048</th>\n",
       "      <td>1.4875</td>\n",
       "      <td>1.2000</td>\n",
       "      <td>0.4125</td>\n",
       "      <td>0.482147</td>\n",
       "      <td>0.391492</td>\n",
       "      <td>0.888945</td>\n",
       "      <td>0.378236</td>\n",
       "      <td>1</td>\n",
       "      <td>0</td>\n",
       "      <td>0</td>\n",
       "      <td>0.652194</td>\n",
       "    </tr>\n",
       "    <tr>\n",
       "      <th>74049</th>\n",
       "      <td>1.2125</td>\n",
       "      <td>0.9625</td>\n",
       "      <td>0.3125</td>\n",
       "      <td>-0.523119</td>\n",
       "      <td>-0.201433</td>\n",
       "      <td>-0.765698</td>\n",
       "      <td>-0.681597</td>\n",
       "      <td>0</td>\n",
       "      <td>1</td>\n",
       "      <td>0</td>\n",
       "      <td>-0.583589</td>\n",
       "    </tr>\n",
       "    <tr>\n",
       "      <th>74050</th>\n",
       "      <td>0.9125</td>\n",
       "      <td>0.6750</td>\n",
       "      <td>0.2000</td>\n",
       "      <td>-1.423039</td>\n",
       "      <td>-1.432698</td>\n",
       "      <td>-1.440752</td>\n",
       "      <td>-1.401333</td>\n",
       "      <td>0</td>\n",
       "      <td>1</td>\n",
       "      <td>0</td>\n",
       "      <td>-1.386714</td>\n",
       "    </tr>\n",
       "  </tbody>\n",
       "</table>\n",
       "<p>74051 rows × 11 columns</p>\n",
       "</div>"
      ],
      "text/plain": [
       "       Length  Diameter  Height    Weight  Shucked Weight  Viscera Weight  \\\n",
       "0      1.5250    1.1750  0.3750  0.441801        0.467185        0.569182   \n",
       "1      1.1000    0.8250  0.2750 -1.025191       -0.993681       -0.978873   \n",
       "2      1.3875    1.1125  0.3750  0.110075        0.219923        0.178362   \n",
       "3      1.7000    1.4125  0.5000  2.156468        1.824604        2.124608   \n",
       "4      1.2500    1.0125  0.3375 -0.007598        0.333461       -0.197232   \n",
       "...       ...       ...     ...       ...             ...             ...   \n",
       "74046  1.6625    1.2625  0.4375  2.156468        1.882635        1.898987   \n",
       "74047  1.0750    0.8625  0.2750 -1.022950       -1.029004       -0.989024   \n",
       "74048  1.4875    1.2000  0.4125  0.482147        0.391492        0.888945   \n",
       "74049  1.2125    0.9625  0.3125 -0.523119       -0.201433       -0.765698   \n",
       "74050  0.9125    0.6750  0.2000 -1.423039       -1.432698       -1.440752   \n",
       "\n",
       "       Shell Weight  Sex_F  Sex_I  Sex_M    Volume  \n",
       "0          0.453373      0      1      0  0.438171  \n",
       "1         -0.926782      0      1      0 -0.966462  \n",
       "2         -0.017224      0      0      1  0.128555  \n",
       "3          2.308079      1      0      0  2.196235  \n",
       "4         -0.214954      0      1      0 -0.375911  \n",
       "...             ...    ...    ...    ...       ...  \n",
       "74046      1.564615      1      0      0  1.257287  \n",
       "74047     -0.887236      0      1      0 -0.948458  \n",
       "74048      0.378236      1      0      0  0.652194  \n",
       "74049     -0.681597      0      1      0 -0.583589  \n",
       "74050     -1.401333      0      1      0 -1.386714  \n",
       "\n",
       "[74051 rows x 11 columns]"
      ]
     },
     "execution_count": 10,
     "metadata": {},
     "output_type": "execute_result"
    }
   ],
   "source": [
    "for col in [\"Weight\",\"Shucked Weight\",\"Viscera Weight\",\"Shell Weight\",\"Volume\"]:\n",
    "    X[col] = normalize(X[col])\n",
    "X"
   ]
  },
  {
   "cell_type": "code",
   "execution_count": 11,
   "id": "a3377cf7",
   "metadata": {
    "execution": {
     "iopub.execute_input": "2023-06-01T02:14:18.941805Z",
     "iopub.status.busy": "2023-06-01T02:14:18.941391Z",
     "iopub.status.idle": "2023-06-01T02:14:18.964165Z",
     "shell.execute_reply": "2023-06-01T02:14:18.962678Z"
    },
    "papermill": {
     "duration": 0.036136,
     "end_time": "2023-06-01T02:14:18.967329",
     "exception": false,
     "start_time": "2023-06-01T02:14:18.931193",
     "status": "completed"
    },
    "tags": []
   },
   "outputs": [],
   "source": [
    "X_train, X_test, y_train, y_test = train_test_split(X, y, test_size=0.2, random_state=13)"
   ]
  },
  {
   "cell_type": "code",
   "execution_count": 12,
   "id": "5345dd62",
   "metadata": {
    "execution": {
     "iopub.execute_input": "2023-06-01T02:14:18.987040Z",
     "iopub.status.busy": "2023-06-01T02:14:18.986641Z",
     "iopub.status.idle": "2023-06-01T02:14:22.076976Z",
     "shell.execute_reply": "2023-06-01T02:14:22.075822Z"
    },
    "papermill": {
     "duration": 3.103362,
     "end_time": "2023-06-01T02:14:22.079374",
     "exception": false,
     "start_time": "2023-06-01T02:14:18.976012",
     "status": "completed"
    },
    "tags": []
   },
   "outputs": [
    {
     "data": {
      "text/plain": [
       "array([0.12379127, 0.12404478, 0.11490272, 0.1227693 , 0.1170813 ])"
      ]
     },
     "execution_count": 12,
     "metadata": {},
     "output_type": "execute_result"
    }
   ],
   "source": [
    "regr = DecisionTreeRegressor(random_state=13)\n",
    "cross_val_score(regr, X, y, cv=5)"
   ]
  },
  {
   "cell_type": "code",
   "execution_count": 13,
   "id": "a48dbfbd",
   "metadata": {
    "execution": {
     "iopub.execute_input": "2023-06-01T02:14:22.098603Z",
     "iopub.status.busy": "2023-06-01T02:14:22.098160Z",
     "iopub.status.idle": "2023-06-01T02:14:22.103469Z",
     "shell.execute_reply": "2023-06-01T02:14:22.102118Z"
    },
    "papermill": {
     "duration": 0.017979,
     "end_time": "2023-06-01T02:14:22.106089",
     "exception": false,
     "start_time": "2023-06-01T02:14:22.088110",
     "status": "completed"
    },
    "tags": []
   },
   "outputs": [],
   "source": [
    "callback = tf.keras.callbacks.EarlyStopping(monitor='val_loss', patience=5, restore_best_weights=True)"
   ]
  },
  {
   "cell_type": "code",
   "execution_count": 14,
   "id": "cd3417aa",
   "metadata": {
    "execution": {
     "iopub.execute_input": "2023-06-01T02:14:22.125535Z",
     "iopub.status.busy": "2023-06-01T02:14:22.124874Z",
     "iopub.status.idle": "2023-06-01T02:15:29.028078Z",
     "shell.execute_reply": "2023-06-01T02:15:29.026635Z"
    },
    "papermill": {
     "duration": 66.916187,
     "end_time": "2023-06-01T02:15:29.030807",
     "exception": false,
     "start_time": "2023-06-01T02:14:22.114620",
     "status": "completed"
    },
    "tags": []
   },
   "outputs": [
    {
     "name": "stdout",
     "output_type": "stream",
     "text": [
      "Epoch 1/100\n",
      "2083/2083 [==============================] - 8s 3ms/step - loss: 1.7361 - val_loss: 1.5224\n",
      "Epoch 2/100\n",
      "2083/2083 [==============================] - 6s 3ms/step - loss: 1.5497 - val_loss: 1.4780\n",
      "Epoch 3/100\n",
      "2083/2083 [==============================] - 7s 3ms/step - loss: 1.5232 - val_loss: 1.4166\n",
      "Epoch 4/100\n",
      "2083/2083 [==============================] - 6s 3ms/step - loss: 1.5096 - val_loss: 1.4341\n",
      "Epoch 5/100\n",
      "2083/2083 [==============================] - 6s 3ms/step - loss: 1.4947 - val_loss: 1.4150\n",
      "Epoch 6/100\n",
      "2083/2083 [==============================] - 7s 3ms/step - loss: 1.4892 - val_loss: 1.4166\n",
      "Epoch 7/100\n",
      "2083/2083 [==============================] - 7s 3ms/step - loss: 1.4829 - val_loss: 1.4187\n",
      "Epoch 8/100\n",
      "2083/2083 [==============================] - 6s 3ms/step - loss: 1.4746 - val_loss: 1.4172\n",
      "Epoch 9/100\n",
      "2083/2083 [==============================] - 7s 3ms/step - loss: 1.4768 - val_loss: 1.4354\n",
      "Epoch 10/100\n",
      "2083/2083 [==============================] - 6s 3ms/step - loss: 1.4663 - val_loss: 1.4218\n"
     ]
    }
   ],
   "source": [
    "model = tf.keras.Sequential()\n",
    "model.add(tf.keras.layers.Dense(128,activation='relu'))\n",
    "model.add(tf.keras.layers.Dropout(0.2))\n",
    "model.add(tf.keras.layers.Normalization(axis=None))\n",
    "model.add(tf.keras.layers.Dense(128,activation='relu'))\n",
    "model.add(tf.keras.layers.Dropout(0.2))\n",
    "model.add(tf.keras.layers.Normalization(axis=None))\n",
    "model.add(tf.keras.layers.Dense(128,activation='relu'))\n",
    "model.add(tf.keras.layers.Dropout(0.2))\n",
    "model.add(tf.keras.layers.Normalization(axis=None))\n",
    "model.add(tf.keras.layers.Dense(1,activation='linear'))\n",
    "model.compile(optimizer='adam', loss=['mae'])\n",
    "# This builds the model for the first time:\n",
    "history = model.fit(X, y, batch_size=32, epochs=100, validation_split=0.1, callbacks=[callback])"
   ]
  },
  {
   "cell_type": "code",
   "execution_count": 15,
   "id": "caca5c81",
   "metadata": {
    "execution": {
     "iopub.execute_input": "2023-06-01T02:15:29.268167Z",
     "iopub.status.busy": "2023-06-01T02:15:29.267119Z",
     "iopub.status.idle": "2023-06-01T02:15:29.437168Z",
     "shell.execute_reply": "2023-06-01T02:15:29.435818Z"
    },
    "papermill": {
     "duration": 0.291519,
     "end_time": "2023-06-01T02:15:29.440114",
     "exception": false,
     "start_time": "2023-06-01T02:15:29.148595",
     "status": "completed"
    },
    "tags": []
   },
   "outputs": [
    {
     "data": {
      "text/html": [
       "<div>\n",
       "<style scoped>\n",
       "    .dataframe tbody tr th:only-of-type {\n",
       "        vertical-align: middle;\n",
       "    }\n",
       "\n",
       "    .dataframe tbody tr th {\n",
       "        vertical-align: top;\n",
       "    }\n",
       "\n",
       "    .dataframe thead th {\n",
       "        text-align: right;\n",
       "    }\n",
       "</style>\n",
       "<table border=\"1\" class=\"dataframe\">\n",
       "  <thead>\n",
       "    <tr style=\"text-align: right;\">\n",
       "      <th></th>\n",
       "      <th>Length</th>\n",
       "      <th>Diameter</th>\n",
       "      <th>Height</th>\n",
       "      <th>Weight</th>\n",
       "      <th>Shucked Weight</th>\n",
       "      <th>Viscera Weight</th>\n",
       "      <th>Shell Weight</th>\n",
       "      <th>Sex_F</th>\n",
       "      <th>Sex_I</th>\n",
       "      <th>Sex_M</th>\n",
       "      <th>Volume</th>\n",
       "    </tr>\n",
       "  </thead>\n",
       "  <tbody>\n",
       "    <tr>\n",
       "      <th>0</th>\n",
       "      <td>1.0500</td>\n",
       "      <td>0.7625</td>\n",
       "      <td>0.2750</td>\n",
       "      <td>-1.174397</td>\n",
       "      <td>-1.153491</td>\n",
       "      <td>-1.197643</td>\n",
       "      <td>-1.125480</td>\n",
       "      <td>0</td>\n",
       "      <td>1</td>\n",
       "      <td>0</td>\n",
       "      <td>-1.072009</td>\n",
       "    </tr>\n",
       "    <tr>\n",
       "      <th>1</th>\n",
       "      <td>1.1625</td>\n",
       "      <td>0.8875</td>\n",
       "      <td>0.2750</td>\n",
       "      <td>-0.629460</td>\n",
       "      <td>-0.552328</td>\n",
       "      <td>-0.654328</td>\n",
       "      <td>-0.776627</td>\n",
       "      <td>0</td>\n",
       "      <td>1</td>\n",
       "      <td>0</td>\n",
       "      <td>-0.860583</td>\n",
       "    </tr>\n",
       "    <tr>\n",
       "      <th>2</th>\n",
       "      <td>1.2875</td>\n",
       "      <td>0.9875</td>\n",
       "      <td>0.3250</td>\n",
       "      <td>-0.703464</td>\n",
       "      <td>-0.815021</td>\n",
       "      <td>-0.425831</td>\n",
       "      <td>-0.538772</td>\n",
       "      <td>1</td>\n",
       "      <td>0</td>\n",
       "      <td>0</td>\n",
       "      <td>-0.429804</td>\n",
       "    </tr>\n",
       "    <tr>\n",
       "      <th>3</th>\n",
       "      <td>1.5500</td>\n",
       "      <td>0.9875</td>\n",
       "      <td>0.3875</td>\n",
       "      <td>0.388652</td>\n",
       "      <td>0.579272</td>\n",
       "      <td>0.528779</td>\n",
       "      <td>0.079650</td>\n",
       "      <td>1</td>\n",
       "      <td>0</td>\n",
       "      <td>0</td>\n",
       "      <td>0.168735</td>\n",
       "    </tr>\n",
       "    <tr>\n",
       "      <th>4</th>\n",
       "      <td>1.1125</td>\n",
       "      <td>0.8500</td>\n",
       "      <td>0.2625</td>\n",
       "      <td>-0.925475</td>\n",
       "      <td>-0.820073</td>\n",
       "      <td>-0.933602</td>\n",
       "      <td>-0.955018</td>\n",
       "      <td>0</td>\n",
       "      <td>1</td>\n",
       "      <td>0</td>\n",
       "      <td>-0.978674</td>\n",
       "    </tr>\n",
       "    <tr>\n",
       "      <th>...</th>\n",
       "      <td>...</td>\n",
       "      <td>...</td>\n",
       "      <td>...</td>\n",
       "      <td>...</td>\n",
       "      <td>...</td>\n",
       "      <td>...</td>\n",
       "      <td>...</td>\n",
       "      <td>...</td>\n",
       "      <td>...</td>\n",
       "      <td>...</td>\n",
       "      <td>...</td>\n",
       "    </tr>\n",
       "    <tr>\n",
       "      <th>49363</th>\n",
       "      <td>1.3000</td>\n",
       "      <td>1.0375</td>\n",
       "      <td>0.3250</td>\n",
       "      <td>-0.565548</td>\n",
       "      <td>-0.612950</td>\n",
       "      <td>0.036241</td>\n",
       "      <td>-0.836090</td>\n",
       "      <td>1</td>\n",
       "      <td>0</td>\n",
       "      <td>0</td>\n",
       "      <td>-0.346177</td>\n",
       "    </tr>\n",
       "    <tr>\n",
       "      <th>49364</th>\n",
       "      <td>1.0375</td>\n",
       "      <td>0.7625</td>\n",
       "      <td>0.2625</td>\n",
       "      <td>-1.043209</td>\n",
       "      <td>-1.014567</td>\n",
       "      <td>-1.101166</td>\n",
       "      <td>-0.895554</td>\n",
       "      <td>0</td>\n",
       "      <td>1</td>\n",
       "      <td>0</td>\n",
       "      <td>-1.113627</td>\n",
       "    </tr>\n",
       "    <tr>\n",
       "      <th>49365</th>\n",
       "      <td>1.4875</td>\n",
       "      <td>1.1625</td>\n",
       "      <td>0.3625</td>\n",
       "      <td>0.626361</td>\n",
       "      <td>0.225647</td>\n",
       "      <td>0.635411</td>\n",
       "      <td>0.571216</td>\n",
       "      <td>1</td>\n",
       "      <td>0</td>\n",
       "      <td>0</td>\n",
       "      <td>0.280933</td>\n",
       "    </tr>\n",
       "    <tr>\n",
       "      <th>49366</th>\n",
       "      <td>1.2375</td>\n",
       "      <td>0.9500</td>\n",
       "      <td>0.2875</td>\n",
       "      <td>-0.617126</td>\n",
       "      <td>-0.719037</td>\n",
       "      <td>-0.481686</td>\n",
       "      <td>-0.499130</td>\n",
       "      <td>1</td>\n",
       "      <td>0</td>\n",
       "      <td>0</td>\n",
       "      <td>-0.680035</td>\n",
       "    </tr>\n",
       "    <tr>\n",
       "      <th>49367</th>\n",
       "      <td>1.6625</td>\n",
       "      <td>1.3000</td>\n",
       "      <td>0.4375</td>\n",
       "      <td>1.040109</td>\n",
       "      <td>0.852068</td>\n",
       "      <td>1.153337</td>\n",
       "      <td>1.046925</td>\n",
       "      <td>0</td>\n",
       "      <td>0</td>\n",
       "      <td>1</td>\n",
       "      <td>1.341227</td>\n",
       "    </tr>\n",
       "  </tbody>\n",
       "</table>\n",
       "<p>49368 rows × 11 columns</p>\n",
       "</div>"
      ],
      "text/plain": [
       "       Length  Diameter  Height    Weight  Shucked Weight  Viscera Weight  \\\n",
       "0      1.0500    0.7625  0.2750 -1.174397       -1.153491       -1.197643   \n",
       "1      1.1625    0.8875  0.2750 -0.629460       -0.552328       -0.654328   \n",
       "2      1.2875    0.9875  0.3250 -0.703464       -0.815021       -0.425831   \n",
       "3      1.5500    0.9875  0.3875  0.388652        0.579272        0.528779   \n",
       "4      1.1125    0.8500  0.2625 -0.925475       -0.820073       -0.933602   \n",
       "...       ...       ...     ...       ...             ...             ...   \n",
       "49363  1.3000    1.0375  0.3250 -0.565548       -0.612950        0.036241   \n",
       "49364  1.0375    0.7625  0.2625 -1.043209       -1.014567       -1.101166   \n",
       "49365  1.4875    1.1625  0.3625  0.626361        0.225647        0.635411   \n",
       "49366  1.2375    0.9500  0.2875 -0.617126       -0.719037       -0.481686   \n",
       "49367  1.6625    1.3000  0.4375  1.040109        0.852068        1.153337   \n",
       "\n",
       "       Shell Weight  Sex_F  Sex_I  Sex_M    Volume  \n",
       "0         -1.125480      0      1      0 -1.072009  \n",
       "1         -0.776627      0      1      0 -0.860583  \n",
       "2         -0.538772      1      0      0 -0.429804  \n",
       "3          0.079650      1      0      0  0.168735  \n",
       "4         -0.955018      0      1      0 -0.978674  \n",
       "...             ...    ...    ...    ...       ...  \n",
       "49363     -0.836090      1      0      0 -0.346177  \n",
       "49364     -0.895554      0      1      0 -1.113627  \n",
       "49365      0.571216      1      0      0  0.280933  \n",
       "49366     -0.499130      1      0      0 -0.680035  \n",
       "49367      1.046925      0      0      1  1.341227  \n",
       "\n",
       "[49368 rows x 11 columns]"
      ]
     },
     "execution_count": 15,
     "metadata": {},
     "output_type": "execute_result"
    }
   ],
   "source": [
    "test_X, test_y = prepare_data(\"/kaggle/input/playground-series-s3e16/test.csv\",train=False)\n",
    "test_X"
   ]
  },
  {
   "cell_type": "code",
   "execution_count": 16,
   "id": "9688e304",
   "metadata": {
    "execution": {
     "iopub.execute_input": "2023-06-01T02:15:29.673223Z",
     "iopub.status.busy": "2023-06-01T02:15:29.672798Z",
     "iopub.status.idle": "2023-06-01T02:15:32.822856Z",
     "shell.execute_reply": "2023-06-01T02:15:32.821493Z"
    },
    "papermill": {
     "duration": 3.270135,
     "end_time": "2023-06-01T02:15:32.826165",
     "exception": false,
     "start_time": "2023-06-01T02:15:29.556030",
     "status": "completed"
    },
    "tags": []
   },
   "outputs": [
    {
     "name": "stdout",
     "output_type": "stream",
     "text": [
      "1543/1543 [==============================] - 2s 1ms/step\n"
     ]
    }
   ],
   "source": [
    "test_pred = model.predict(test_X)"
   ]
  },
  {
   "cell_type": "code",
   "execution_count": 17,
   "id": "3b2bc64e",
   "metadata": {
    "execution": {
     "iopub.execute_input": "2023-06-01T02:15:33.065409Z",
     "iopub.status.busy": "2023-06-01T02:15:33.064966Z",
     "iopub.status.idle": "2023-06-01T02:15:33.153629Z",
     "shell.execute_reply": "2023-06-01T02:15:33.152410Z"
    },
    "papermill": {
     "duration": 0.210893,
     "end_time": "2023-06-01T02:15:33.156489",
     "exception": false,
     "start_time": "2023-06-01T02:15:32.945596",
     "status": "completed"
    },
    "tags": []
   },
   "outputs": [],
   "source": [
    "test_orig = pd.read_csv(\"/kaggle/input/playground-series-s3e16/test.csv\")"
   ]
  },
  {
   "cell_type": "code",
   "execution_count": 18,
   "id": "f5fcb351",
   "metadata": {
    "execution": {
     "iopub.execute_input": "2023-06-01T02:15:33.394999Z",
     "iopub.status.busy": "2023-06-01T02:15:33.393723Z",
     "iopub.status.idle": "2023-06-01T02:15:33.401614Z",
     "shell.execute_reply": "2023-06-01T02:15:33.400443Z"
    },
    "papermill": {
     "duration": 0.129244,
     "end_time": "2023-06-01T02:15:33.404361",
     "exception": false,
     "start_time": "2023-06-01T02:15:33.275117",
     "status": "completed"
    },
    "tags": []
   },
   "outputs": [],
   "source": [
    "output = pd.concat([test_orig[\"id\"], pd.DataFrame(test_pred)], axis=1)"
   ]
  },
  {
   "cell_type": "code",
   "execution_count": 19,
   "id": "92b05ec3",
   "metadata": {
    "execution": {
     "iopub.execute_input": "2023-06-01T02:15:33.641167Z",
     "iopub.status.busy": "2023-06-01T02:15:33.640711Z",
     "iopub.status.idle": "2023-06-01T02:15:33.655686Z",
     "shell.execute_reply": "2023-06-01T02:15:33.654463Z"
    },
    "papermill": {
     "duration": 0.135665,
     "end_time": "2023-06-01T02:15:33.658415",
     "exception": false,
     "start_time": "2023-06-01T02:15:33.522750",
     "status": "completed"
    },
    "tags": []
   },
   "outputs": [
    {
     "data": {
      "text/html": [
       "<div>\n",
       "<style scoped>\n",
       "    .dataframe tbody tr th:only-of-type {\n",
       "        vertical-align: middle;\n",
       "    }\n",
       "\n",
       "    .dataframe tbody tr th {\n",
       "        vertical-align: top;\n",
       "    }\n",
       "\n",
       "    .dataframe thead th {\n",
       "        text-align: right;\n",
       "    }\n",
       "</style>\n",
       "<table border=\"1\" class=\"dataframe\">\n",
       "  <thead>\n",
       "    <tr style=\"text-align: right;\">\n",
       "      <th></th>\n",
       "      <th>id</th>\n",
       "      <th>Age</th>\n",
       "    </tr>\n",
       "  </thead>\n",
       "  <tbody>\n",
       "    <tr>\n",
       "      <th>0</th>\n",
       "      <td>74051</td>\n",
       "      <td>7.158122</td>\n",
       "    </tr>\n",
       "    <tr>\n",
       "      <th>1</th>\n",
       "      <td>74052</td>\n",
       "      <td>7.908869</td>\n",
       "    </tr>\n",
       "    <tr>\n",
       "      <th>2</th>\n",
       "      <td>74053</td>\n",
       "      <td>10.441444</td>\n",
       "    </tr>\n",
       "    <tr>\n",
       "      <th>3</th>\n",
       "      <td>74054</td>\n",
       "      <td>9.329162</td>\n",
       "    </tr>\n",
       "    <tr>\n",
       "      <th>4</th>\n",
       "      <td>74055</td>\n",
       "      <td>7.556980</td>\n",
       "    </tr>\n",
       "    <tr>\n",
       "      <th>...</th>\n",
       "      <td>...</td>\n",
       "      <td>...</td>\n",
       "    </tr>\n",
       "    <tr>\n",
       "      <th>49363</th>\n",
       "      <td>123414</td>\n",
       "      <td>9.020704</td>\n",
       "    </tr>\n",
       "    <tr>\n",
       "      <th>49364</th>\n",
       "      <td>123415</td>\n",
       "      <td>7.426793</td>\n",
       "    </tr>\n",
       "    <tr>\n",
       "      <th>49365</th>\n",
       "      <td>123416</td>\n",
       "      <td>11.545671</td>\n",
       "    </tr>\n",
       "    <tr>\n",
       "      <th>49366</th>\n",
       "      <td>123417</td>\n",
       "      <td>10.053308</td>\n",
       "    </tr>\n",
       "    <tr>\n",
       "      <th>49367</th>\n",
       "      <td>123418</td>\n",
       "      <td>10.978467</td>\n",
       "    </tr>\n",
       "  </tbody>\n",
       "</table>\n",
       "<p>49368 rows × 2 columns</p>\n",
       "</div>"
      ],
      "text/plain": [
       "           id        Age\n",
       "0       74051   7.158122\n",
       "1       74052   7.908869\n",
       "2       74053  10.441444\n",
       "3       74054   9.329162\n",
       "4       74055   7.556980\n",
       "...       ...        ...\n",
       "49363  123414   9.020704\n",
       "49364  123415   7.426793\n",
       "49365  123416  11.545671\n",
       "49366  123417  10.053308\n",
       "49367  123418  10.978467\n",
       "\n",
       "[49368 rows x 2 columns]"
      ]
     },
     "execution_count": 19,
     "metadata": {},
     "output_type": "execute_result"
    }
   ],
   "source": [
    "output = output.rename(columns={0:\"Age\"})\n",
    "output"
   ]
  },
  {
   "cell_type": "code",
   "execution_count": 20,
   "id": "e44f016f",
   "metadata": {
    "execution": {
     "iopub.execute_input": "2023-06-01T02:15:33.902555Z",
     "iopub.status.busy": "2023-06-01T02:15:33.901687Z",
     "iopub.status.idle": "2023-06-01T02:15:34.078721Z",
     "shell.execute_reply": "2023-06-01T02:15:34.077669Z"
    },
    "papermill": {
     "duration": 0.304139,
     "end_time": "2023-06-01T02:15:34.081696",
     "exception": false,
     "start_time": "2023-06-01T02:15:33.777557",
     "status": "completed"
    },
    "tags": []
   },
   "outputs": [],
   "source": [
    "output.to_csv(\"/kaggle/working/crab_submission.csv\",index=False)"
   ]
  }
 ],
 "metadata": {
  "kernelspec": {
   "display_name": "Python 3",
   "language": "python",
   "name": "python3"
  },
  "language_info": {
   "codemirror_mode": {
    "name": "ipython",
    "version": 3
   },
   "file_extension": ".py",
   "mimetype": "text/x-python",
   "name": "python",
   "nbconvert_exporter": "python",
   "pygments_lexer": "ipython3",
   "version": "3.10.10"
  },
  "papermill": {
   "default_parameters": {},
   "duration": 104.915553,
   "end_time": "2023-06-01T02:15:37.522196",
   "environment_variables": {},
   "exception": null,
   "input_path": "__notebook__.ipynb",
   "output_path": "__notebook__.ipynb",
   "parameters": {},
   "start_time": "2023-06-01T02:13:52.606643",
   "version": "2.4.0"
  }
 },
 "nbformat": 4,
 "nbformat_minor": 5
}
