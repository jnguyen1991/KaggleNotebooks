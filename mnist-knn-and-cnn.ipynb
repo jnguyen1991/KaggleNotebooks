{
 "cells": [
  {
   "cell_type": "markdown",
   "id": "5dc91a06",
   "metadata": {
    "papermill": {
     "duration": 0.009165,
     "end_time": "2023-06-06T19:50:25.572596",
     "exception": false,
     "start_time": "2023-06-06T19:50:25.563431",
     "status": "completed"
    },
    "tags": []
   },
   "source": [
    "# MNIST KNN and CNN\n",
    "Practice on MNIST dataset  \n",
    "Using a KNN classifier as a first attempt  \n",
    "Then uses a simple CNN to classify  "
   ]
  },
  {
   "cell_type": "code",
   "execution_count": 1,
   "id": "67c192b8",
   "metadata": {
    "_cell_guid": "b1076dfc-b9ad-4769-8c92-a6c4dae69d19",
    "_uuid": "8f2839f25d086af736a60e9eeb907d3b93b6e0e5",
    "execution": {
     "iopub.execute_input": "2023-06-06T19:50:25.590777Z",
     "iopub.status.busy": "2023-06-06T19:50:25.590178Z",
     "iopub.status.idle": "2023-06-06T19:50:25.604379Z",
     "shell.execute_reply": "2023-06-06T19:50:25.603147Z"
    },
    "papermill": {
     "duration": 0.025537,
     "end_time": "2023-06-06T19:50:25.606413",
     "exception": false,
     "start_time": "2023-06-06T19:50:25.580876",
     "status": "completed"
    },
    "tags": []
   },
   "outputs": [
    {
     "name": "stdout",
     "output_type": "stream",
     "text": [
      "/kaggle/input/digit-recognizer/sample_submission.csv\n",
      "/kaggle/input/digit-recognizer/train.csv\n",
      "/kaggle/input/digit-recognizer/test.csv\n"
     ]
    }
   ],
   "source": [
    "import numpy as np # linear algebra\n",
    "import pandas as pd # data processing, CSV file I/O (e.g. pd.read_csv)\n",
    "\n",
    "import os\n",
    "for dirname, _, filenames in os.walk('/kaggle/input'):\n",
    "    for filename in filenames:\n",
    "        print(os.path.join(dirname, filename))"
   ]
  },
  {
   "cell_type": "markdown",
   "id": "6bba8e9c",
   "metadata": {
    "papermill": {
     "duration": 0.008354,
     "end_time": "2023-06-06T19:50:25.623049",
     "exception": false,
     "start_time": "2023-06-06T19:50:25.614695",
     "status": "completed"
    },
    "tags": []
   },
   "source": [
    "# KNN Classifier Attempt"
   ]
  },
  {
   "cell_type": "code",
   "execution_count": 2,
   "id": "913f7f8b",
   "metadata": {
    "execution": {
     "iopub.execute_input": "2023-06-06T19:50:25.641070Z",
     "iopub.status.busy": "2023-06-06T19:50:25.640333Z",
     "iopub.status.idle": "2023-06-06T19:50:26.895674Z",
     "shell.execute_reply": "2023-06-06T19:50:26.894631Z"
    },
    "papermill": {
     "duration": 1.266974,
     "end_time": "2023-06-06T19:50:26.898310",
     "exception": false,
     "start_time": "2023-06-06T19:50:25.631336",
     "status": "completed"
    },
    "tags": []
   },
   "outputs": [],
   "source": [
    "from sklearn.neighbors import KNeighborsClassifier\n",
    "from sklearn.model_selection import cross_val_score"
   ]
  },
  {
   "cell_type": "code",
   "execution_count": 3,
   "id": "814e965b",
   "metadata": {
    "execution": {
     "iopub.execute_input": "2023-06-06T19:50:26.917792Z",
     "iopub.status.busy": "2023-06-06T19:50:26.916929Z",
     "iopub.status.idle": "2023-06-06T19:50:32.181045Z",
     "shell.execute_reply": "2023-06-06T19:50:32.180016Z"
    },
    "papermill": {
     "duration": 5.276447,
     "end_time": "2023-06-06T19:50:32.183734",
     "exception": false,
     "start_time": "2023-06-06T19:50:26.907287",
     "status": "completed"
    },
    "tags": []
   },
   "outputs": [],
   "source": [
    "df = pd.read_csv(\"/kaggle/input/digit-recognizer/train.csv\")\n",
    "test = pd.read_csv(\"/kaggle/input/digit-recognizer/test.csv\")"
   ]
  },
  {
   "cell_type": "code",
   "execution_count": 4,
   "id": "480c174a",
   "metadata": {
    "execution": {
     "iopub.execute_input": "2023-06-06T19:50:32.202208Z",
     "iopub.status.busy": "2023-06-06T19:50:32.201879Z",
     "iopub.status.idle": "2023-06-06T19:50:32.224830Z",
     "shell.execute_reply": "2023-06-06T19:50:32.223765Z"
    },
    "papermill": {
     "duration": 0.03526,
     "end_time": "2023-06-06T19:50:32.227777",
     "exception": false,
     "start_time": "2023-06-06T19:50:32.192517",
     "status": "completed"
    },
    "tags": []
   },
   "outputs": [
    {
     "data": {
      "text/html": [
       "<div>\n",
       "<style scoped>\n",
       "    .dataframe tbody tr th:only-of-type {\n",
       "        vertical-align: middle;\n",
       "    }\n",
       "\n",
       "    .dataframe tbody tr th {\n",
       "        vertical-align: top;\n",
       "    }\n",
       "\n",
       "    .dataframe thead th {\n",
       "        text-align: right;\n",
       "    }\n",
       "</style>\n",
       "<table border=\"1\" class=\"dataframe\">\n",
       "  <thead>\n",
       "    <tr style=\"text-align: right;\">\n",
       "      <th></th>\n",
       "      <th>label</th>\n",
       "      <th>pixel0</th>\n",
       "      <th>pixel1</th>\n",
       "      <th>pixel2</th>\n",
       "      <th>pixel3</th>\n",
       "      <th>pixel4</th>\n",
       "      <th>pixel5</th>\n",
       "      <th>pixel6</th>\n",
       "      <th>pixel7</th>\n",
       "      <th>pixel8</th>\n",
       "      <th>...</th>\n",
       "      <th>pixel774</th>\n",
       "      <th>pixel775</th>\n",
       "      <th>pixel776</th>\n",
       "      <th>pixel777</th>\n",
       "      <th>pixel778</th>\n",
       "      <th>pixel779</th>\n",
       "      <th>pixel780</th>\n",
       "      <th>pixel781</th>\n",
       "      <th>pixel782</th>\n",
       "      <th>pixel783</th>\n",
       "    </tr>\n",
       "  </thead>\n",
       "  <tbody>\n",
       "    <tr>\n",
       "      <th>0</th>\n",
       "      <td>1</td>\n",
       "      <td>0</td>\n",
       "      <td>0</td>\n",
       "      <td>0</td>\n",
       "      <td>0</td>\n",
       "      <td>0</td>\n",
       "      <td>0</td>\n",
       "      <td>0</td>\n",
       "      <td>0</td>\n",
       "      <td>0</td>\n",
       "      <td>...</td>\n",
       "      <td>0</td>\n",
       "      <td>0</td>\n",
       "      <td>0</td>\n",
       "      <td>0</td>\n",
       "      <td>0</td>\n",
       "      <td>0</td>\n",
       "      <td>0</td>\n",
       "      <td>0</td>\n",
       "      <td>0</td>\n",
       "      <td>0</td>\n",
       "    </tr>\n",
       "    <tr>\n",
       "      <th>1</th>\n",
       "      <td>0</td>\n",
       "      <td>0</td>\n",
       "      <td>0</td>\n",
       "      <td>0</td>\n",
       "      <td>0</td>\n",
       "      <td>0</td>\n",
       "      <td>0</td>\n",
       "      <td>0</td>\n",
       "      <td>0</td>\n",
       "      <td>0</td>\n",
       "      <td>...</td>\n",
       "      <td>0</td>\n",
       "      <td>0</td>\n",
       "      <td>0</td>\n",
       "      <td>0</td>\n",
       "      <td>0</td>\n",
       "      <td>0</td>\n",
       "      <td>0</td>\n",
       "      <td>0</td>\n",
       "      <td>0</td>\n",
       "      <td>0</td>\n",
       "    </tr>\n",
       "    <tr>\n",
       "      <th>2</th>\n",
       "      <td>1</td>\n",
       "      <td>0</td>\n",
       "      <td>0</td>\n",
       "      <td>0</td>\n",
       "      <td>0</td>\n",
       "      <td>0</td>\n",
       "      <td>0</td>\n",
       "      <td>0</td>\n",
       "      <td>0</td>\n",
       "      <td>0</td>\n",
       "      <td>...</td>\n",
       "      <td>0</td>\n",
       "      <td>0</td>\n",
       "      <td>0</td>\n",
       "      <td>0</td>\n",
       "      <td>0</td>\n",
       "      <td>0</td>\n",
       "      <td>0</td>\n",
       "      <td>0</td>\n",
       "      <td>0</td>\n",
       "      <td>0</td>\n",
       "    </tr>\n",
       "    <tr>\n",
       "      <th>3</th>\n",
       "      <td>4</td>\n",
       "      <td>0</td>\n",
       "      <td>0</td>\n",
       "      <td>0</td>\n",
       "      <td>0</td>\n",
       "      <td>0</td>\n",
       "      <td>0</td>\n",
       "      <td>0</td>\n",
       "      <td>0</td>\n",
       "      <td>0</td>\n",
       "      <td>...</td>\n",
       "      <td>0</td>\n",
       "      <td>0</td>\n",
       "      <td>0</td>\n",
       "      <td>0</td>\n",
       "      <td>0</td>\n",
       "      <td>0</td>\n",
       "      <td>0</td>\n",
       "      <td>0</td>\n",
       "      <td>0</td>\n",
       "      <td>0</td>\n",
       "    </tr>\n",
       "    <tr>\n",
       "      <th>4</th>\n",
       "      <td>0</td>\n",
       "      <td>0</td>\n",
       "      <td>0</td>\n",
       "      <td>0</td>\n",
       "      <td>0</td>\n",
       "      <td>0</td>\n",
       "      <td>0</td>\n",
       "      <td>0</td>\n",
       "      <td>0</td>\n",
       "      <td>0</td>\n",
       "      <td>...</td>\n",
       "      <td>0</td>\n",
       "      <td>0</td>\n",
       "      <td>0</td>\n",
       "      <td>0</td>\n",
       "      <td>0</td>\n",
       "      <td>0</td>\n",
       "      <td>0</td>\n",
       "      <td>0</td>\n",
       "      <td>0</td>\n",
       "      <td>0</td>\n",
       "    </tr>\n",
       "  </tbody>\n",
       "</table>\n",
       "<p>5 rows × 785 columns</p>\n",
       "</div>"
      ],
      "text/plain": [
       "   label  pixel0  pixel1  pixel2  pixel3  pixel4  pixel5  pixel6  pixel7  \\\n",
       "0      1       0       0       0       0       0       0       0       0   \n",
       "1      0       0       0       0       0       0       0       0       0   \n",
       "2      1       0       0       0       0       0       0       0       0   \n",
       "3      4       0       0       0       0       0       0       0       0   \n",
       "4      0       0       0       0       0       0       0       0       0   \n",
       "\n",
       "   pixel8  ...  pixel774  pixel775  pixel776  pixel777  pixel778  pixel779  \\\n",
       "0       0  ...         0         0         0         0         0         0   \n",
       "1       0  ...         0         0         0         0         0         0   \n",
       "2       0  ...         0         0         0         0         0         0   \n",
       "3       0  ...         0         0         0         0         0         0   \n",
       "4       0  ...         0         0         0         0         0         0   \n",
       "\n",
       "   pixel780  pixel781  pixel782  pixel783  \n",
       "0         0         0         0         0  \n",
       "1         0         0         0         0  \n",
       "2         0         0         0         0  \n",
       "3         0         0         0         0  \n",
       "4         0         0         0         0  \n",
       "\n",
       "[5 rows x 785 columns]"
      ]
     },
     "execution_count": 4,
     "metadata": {},
     "output_type": "execute_result"
    }
   ],
   "source": [
    "df.head()"
   ]
  },
  {
   "cell_type": "code",
   "execution_count": 5,
   "id": "87ed7145",
   "metadata": {
    "execution": {
     "iopub.execute_input": "2023-06-06T19:50:32.247450Z",
     "iopub.status.busy": "2023-06-06T19:50:32.247173Z",
     "iopub.status.idle": "2023-06-06T19:50:34.582776Z",
     "shell.execute_reply": "2023-06-06T19:50:34.581803Z"
    },
    "papermill": {
     "duration": 2.347721,
     "end_time": "2023-06-06T19:50:34.585003",
     "exception": false,
     "start_time": "2023-06-06T19:50:32.237282",
     "status": "completed"
    },
    "tags": []
   },
   "outputs": [
    {
     "data": {
      "text/html": [
       "<div>\n",
       "<style scoped>\n",
       "    .dataframe tbody tr th:only-of-type {\n",
       "        vertical-align: middle;\n",
       "    }\n",
       "\n",
       "    .dataframe tbody tr th {\n",
       "        vertical-align: top;\n",
       "    }\n",
       "\n",
       "    .dataframe thead th {\n",
       "        text-align: right;\n",
       "    }\n",
       "</style>\n",
       "<table border=\"1\" class=\"dataframe\">\n",
       "  <thead>\n",
       "    <tr style=\"text-align: right;\">\n",
       "      <th></th>\n",
       "      <th>label</th>\n",
       "      <th>pixel0</th>\n",
       "      <th>pixel1</th>\n",
       "      <th>pixel2</th>\n",
       "      <th>pixel3</th>\n",
       "      <th>pixel4</th>\n",
       "      <th>pixel5</th>\n",
       "      <th>pixel6</th>\n",
       "      <th>pixel7</th>\n",
       "      <th>pixel8</th>\n",
       "      <th>...</th>\n",
       "      <th>pixel774</th>\n",
       "      <th>pixel775</th>\n",
       "      <th>pixel776</th>\n",
       "      <th>pixel777</th>\n",
       "      <th>pixel778</th>\n",
       "      <th>pixel779</th>\n",
       "      <th>pixel780</th>\n",
       "      <th>pixel781</th>\n",
       "      <th>pixel782</th>\n",
       "      <th>pixel783</th>\n",
       "    </tr>\n",
       "  </thead>\n",
       "  <tbody>\n",
       "    <tr>\n",
       "      <th>count</th>\n",
       "      <td>42000.000000</td>\n",
       "      <td>42000.0</td>\n",
       "      <td>42000.0</td>\n",
       "      <td>42000.0</td>\n",
       "      <td>42000.0</td>\n",
       "      <td>42000.0</td>\n",
       "      <td>42000.0</td>\n",
       "      <td>42000.0</td>\n",
       "      <td>42000.0</td>\n",
       "      <td>42000.0</td>\n",
       "      <td>...</td>\n",
       "      <td>42000.000000</td>\n",
       "      <td>42000.000000</td>\n",
       "      <td>42000.000000</td>\n",
       "      <td>42000.00000</td>\n",
       "      <td>42000.000000</td>\n",
       "      <td>42000.000000</td>\n",
       "      <td>42000.0</td>\n",
       "      <td>42000.0</td>\n",
       "      <td>42000.0</td>\n",
       "      <td>42000.0</td>\n",
       "    </tr>\n",
       "    <tr>\n",
       "      <th>mean</th>\n",
       "      <td>4.456643</td>\n",
       "      <td>0.0</td>\n",
       "      <td>0.0</td>\n",
       "      <td>0.0</td>\n",
       "      <td>0.0</td>\n",
       "      <td>0.0</td>\n",
       "      <td>0.0</td>\n",
       "      <td>0.0</td>\n",
       "      <td>0.0</td>\n",
       "      <td>0.0</td>\n",
       "      <td>...</td>\n",
       "      <td>0.219286</td>\n",
       "      <td>0.117095</td>\n",
       "      <td>0.059024</td>\n",
       "      <td>0.02019</td>\n",
       "      <td>0.017238</td>\n",
       "      <td>0.002857</td>\n",
       "      <td>0.0</td>\n",
       "      <td>0.0</td>\n",
       "      <td>0.0</td>\n",
       "      <td>0.0</td>\n",
       "    </tr>\n",
       "    <tr>\n",
       "      <th>std</th>\n",
       "      <td>2.887730</td>\n",
       "      <td>0.0</td>\n",
       "      <td>0.0</td>\n",
       "      <td>0.0</td>\n",
       "      <td>0.0</td>\n",
       "      <td>0.0</td>\n",
       "      <td>0.0</td>\n",
       "      <td>0.0</td>\n",
       "      <td>0.0</td>\n",
       "      <td>0.0</td>\n",
       "      <td>...</td>\n",
       "      <td>6.312890</td>\n",
       "      <td>4.633819</td>\n",
       "      <td>3.274488</td>\n",
       "      <td>1.75987</td>\n",
       "      <td>1.894498</td>\n",
       "      <td>0.414264</td>\n",
       "      <td>0.0</td>\n",
       "      <td>0.0</td>\n",
       "      <td>0.0</td>\n",
       "      <td>0.0</td>\n",
       "    </tr>\n",
       "    <tr>\n",
       "      <th>min</th>\n",
       "      <td>0.000000</td>\n",
       "      <td>0.0</td>\n",
       "      <td>0.0</td>\n",
       "      <td>0.0</td>\n",
       "      <td>0.0</td>\n",
       "      <td>0.0</td>\n",
       "      <td>0.0</td>\n",
       "      <td>0.0</td>\n",
       "      <td>0.0</td>\n",
       "      <td>0.0</td>\n",
       "      <td>...</td>\n",
       "      <td>0.000000</td>\n",
       "      <td>0.000000</td>\n",
       "      <td>0.000000</td>\n",
       "      <td>0.00000</td>\n",
       "      <td>0.000000</td>\n",
       "      <td>0.000000</td>\n",
       "      <td>0.0</td>\n",
       "      <td>0.0</td>\n",
       "      <td>0.0</td>\n",
       "      <td>0.0</td>\n",
       "    </tr>\n",
       "    <tr>\n",
       "      <th>25%</th>\n",
       "      <td>2.000000</td>\n",
       "      <td>0.0</td>\n",
       "      <td>0.0</td>\n",
       "      <td>0.0</td>\n",
       "      <td>0.0</td>\n",
       "      <td>0.0</td>\n",
       "      <td>0.0</td>\n",
       "      <td>0.0</td>\n",
       "      <td>0.0</td>\n",
       "      <td>0.0</td>\n",
       "      <td>...</td>\n",
       "      <td>0.000000</td>\n",
       "      <td>0.000000</td>\n",
       "      <td>0.000000</td>\n",
       "      <td>0.00000</td>\n",
       "      <td>0.000000</td>\n",
       "      <td>0.000000</td>\n",
       "      <td>0.0</td>\n",
       "      <td>0.0</td>\n",
       "      <td>0.0</td>\n",
       "      <td>0.0</td>\n",
       "    </tr>\n",
       "    <tr>\n",
       "      <th>50%</th>\n",
       "      <td>4.000000</td>\n",
       "      <td>0.0</td>\n",
       "      <td>0.0</td>\n",
       "      <td>0.0</td>\n",
       "      <td>0.0</td>\n",
       "      <td>0.0</td>\n",
       "      <td>0.0</td>\n",
       "      <td>0.0</td>\n",
       "      <td>0.0</td>\n",
       "      <td>0.0</td>\n",
       "      <td>...</td>\n",
       "      <td>0.000000</td>\n",
       "      <td>0.000000</td>\n",
       "      <td>0.000000</td>\n",
       "      <td>0.00000</td>\n",
       "      <td>0.000000</td>\n",
       "      <td>0.000000</td>\n",
       "      <td>0.0</td>\n",
       "      <td>0.0</td>\n",
       "      <td>0.0</td>\n",
       "      <td>0.0</td>\n",
       "    </tr>\n",
       "    <tr>\n",
       "      <th>75%</th>\n",
       "      <td>7.000000</td>\n",
       "      <td>0.0</td>\n",
       "      <td>0.0</td>\n",
       "      <td>0.0</td>\n",
       "      <td>0.0</td>\n",
       "      <td>0.0</td>\n",
       "      <td>0.0</td>\n",
       "      <td>0.0</td>\n",
       "      <td>0.0</td>\n",
       "      <td>0.0</td>\n",
       "      <td>...</td>\n",
       "      <td>0.000000</td>\n",
       "      <td>0.000000</td>\n",
       "      <td>0.000000</td>\n",
       "      <td>0.00000</td>\n",
       "      <td>0.000000</td>\n",
       "      <td>0.000000</td>\n",
       "      <td>0.0</td>\n",
       "      <td>0.0</td>\n",
       "      <td>0.0</td>\n",
       "      <td>0.0</td>\n",
       "    </tr>\n",
       "    <tr>\n",
       "      <th>max</th>\n",
       "      <td>9.000000</td>\n",
       "      <td>0.0</td>\n",
       "      <td>0.0</td>\n",
       "      <td>0.0</td>\n",
       "      <td>0.0</td>\n",
       "      <td>0.0</td>\n",
       "      <td>0.0</td>\n",
       "      <td>0.0</td>\n",
       "      <td>0.0</td>\n",
       "      <td>0.0</td>\n",
       "      <td>...</td>\n",
       "      <td>254.000000</td>\n",
       "      <td>254.000000</td>\n",
       "      <td>253.000000</td>\n",
       "      <td>253.00000</td>\n",
       "      <td>254.000000</td>\n",
       "      <td>62.000000</td>\n",
       "      <td>0.0</td>\n",
       "      <td>0.0</td>\n",
       "      <td>0.0</td>\n",
       "      <td>0.0</td>\n",
       "    </tr>\n",
       "  </tbody>\n",
       "</table>\n",
       "<p>8 rows × 785 columns</p>\n",
       "</div>"
      ],
      "text/plain": [
       "              label   pixel0   pixel1   pixel2   pixel3   pixel4   pixel5  \\\n",
       "count  42000.000000  42000.0  42000.0  42000.0  42000.0  42000.0  42000.0   \n",
       "mean       4.456643      0.0      0.0      0.0      0.0      0.0      0.0   \n",
       "std        2.887730      0.0      0.0      0.0      0.0      0.0      0.0   \n",
       "min        0.000000      0.0      0.0      0.0      0.0      0.0      0.0   \n",
       "25%        2.000000      0.0      0.0      0.0      0.0      0.0      0.0   \n",
       "50%        4.000000      0.0      0.0      0.0      0.0      0.0      0.0   \n",
       "75%        7.000000      0.0      0.0      0.0      0.0      0.0      0.0   \n",
       "max        9.000000      0.0      0.0      0.0      0.0      0.0      0.0   \n",
       "\n",
       "        pixel6   pixel7   pixel8  ...      pixel774      pixel775  \\\n",
       "count  42000.0  42000.0  42000.0  ...  42000.000000  42000.000000   \n",
       "mean       0.0      0.0      0.0  ...      0.219286      0.117095   \n",
       "std        0.0      0.0      0.0  ...      6.312890      4.633819   \n",
       "min        0.0      0.0      0.0  ...      0.000000      0.000000   \n",
       "25%        0.0      0.0      0.0  ...      0.000000      0.000000   \n",
       "50%        0.0      0.0      0.0  ...      0.000000      0.000000   \n",
       "75%        0.0      0.0      0.0  ...      0.000000      0.000000   \n",
       "max        0.0      0.0      0.0  ...    254.000000    254.000000   \n",
       "\n",
       "           pixel776     pixel777      pixel778      pixel779  pixel780  \\\n",
       "count  42000.000000  42000.00000  42000.000000  42000.000000   42000.0   \n",
       "mean       0.059024      0.02019      0.017238      0.002857       0.0   \n",
       "std        3.274488      1.75987      1.894498      0.414264       0.0   \n",
       "min        0.000000      0.00000      0.000000      0.000000       0.0   \n",
       "25%        0.000000      0.00000      0.000000      0.000000       0.0   \n",
       "50%        0.000000      0.00000      0.000000      0.000000       0.0   \n",
       "75%        0.000000      0.00000      0.000000      0.000000       0.0   \n",
       "max      253.000000    253.00000    254.000000     62.000000       0.0   \n",
       "\n",
       "       pixel781  pixel782  pixel783  \n",
       "count   42000.0   42000.0   42000.0  \n",
       "mean        0.0       0.0       0.0  \n",
       "std         0.0       0.0       0.0  \n",
       "min         0.0       0.0       0.0  \n",
       "25%         0.0       0.0       0.0  \n",
       "50%         0.0       0.0       0.0  \n",
       "75%         0.0       0.0       0.0  \n",
       "max         0.0       0.0       0.0  \n",
       "\n",
       "[8 rows x 785 columns]"
      ]
     },
     "execution_count": 5,
     "metadata": {},
     "output_type": "execute_result"
    }
   ],
   "source": [
    "df.describe()"
   ]
  },
  {
   "cell_type": "code",
   "execution_count": 6,
   "id": "ae565e52",
   "metadata": {
    "execution": {
     "iopub.execute_input": "2023-06-06T19:50:34.605464Z",
     "iopub.status.busy": "2023-06-06T19:50:34.605176Z",
     "iopub.status.idle": "2023-06-06T19:50:34.686328Z",
     "shell.execute_reply": "2023-06-06T19:50:34.685190Z"
    },
    "papermill": {
     "duration": 0.093587,
     "end_time": "2023-06-06T19:50:34.688616",
     "exception": false,
     "start_time": "2023-06-06T19:50:34.595029",
     "status": "completed"
    },
    "tags": []
   },
   "outputs": [],
   "source": [
    "y= df['label']\n",
    "X = df.drop(columns='label')"
   ]
  },
  {
   "cell_type": "markdown",
   "id": "f316758c",
   "metadata": {
    "papermill": {
     "duration": 0.009296,
     "end_time": "2023-06-06T19:50:34.707815",
     "exception": false,
     "start_time": "2023-06-06T19:50:34.698519",
     "status": "completed"
    },
    "tags": []
   },
   "source": [
    "**Normalizing data**  \n",
    "Dividing pixels by max of 255"
   ]
  },
  {
   "cell_type": "code",
   "execution_count": 7,
   "id": "5eba7148",
   "metadata": {
    "execution": {
     "iopub.execute_input": "2023-06-06T19:50:34.727131Z",
     "iopub.status.busy": "2023-06-06T19:50:34.726794Z",
     "iopub.status.idle": "2023-06-06T19:50:34.849084Z",
     "shell.execute_reply": "2023-06-06T19:50:34.847990Z"
    },
    "papermill": {
     "duration": 0.134729,
     "end_time": "2023-06-06T19:50:34.851667",
     "exception": false,
     "start_time": "2023-06-06T19:50:34.716938",
     "status": "completed"
    },
    "tags": []
   },
   "outputs": [],
   "source": [
    "X /= 255"
   ]
  },
  {
   "cell_type": "code",
   "execution_count": 8,
   "id": "91a2eb4d",
   "metadata": {
    "execution": {
     "iopub.execute_input": "2023-06-06T19:50:34.873350Z",
     "iopub.status.busy": "2023-06-06T19:50:34.872312Z",
     "iopub.status.idle": "2023-06-06T19:50:34.877220Z",
     "shell.execute_reply": "2023-06-06T19:50:34.876186Z"
    },
    "papermill": {
     "duration": 0.017786,
     "end_time": "2023-06-06T19:50:34.879450",
     "exception": false,
     "start_time": "2023-06-06T19:50:34.861664",
     "status": "completed"
    },
    "tags": []
   },
   "outputs": [],
   "source": [
    "clf = KNeighborsClassifier()"
   ]
  },
  {
   "cell_type": "code",
   "execution_count": 9,
   "id": "bae6b757",
   "metadata": {
    "execution": {
     "iopub.execute_input": "2023-06-06T19:50:34.900111Z",
     "iopub.status.busy": "2023-06-06T19:50:34.899783Z",
     "iopub.status.idle": "2023-06-06T19:51:26.933376Z",
     "shell.execute_reply": "2023-06-06T19:51:26.932330Z"
    },
    "papermill": {
     "duration": 52.055837,
     "end_time": "2023-06-06T19:51:26.944908",
     "exception": false,
     "start_time": "2023-06-06T19:50:34.889071",
     "status": "completed"
    },
    "tags": []
   },
   "outputs": [
    {
     "name": "stdout",
     "output_type": "stream",
     "text": [
      "[0.96797619 0.96559524 0.96345238 0.96333333 0.96892857]\n"
     ]
    }
   ],
   "source": [
    "scores = cross_val_score(clf, X, y)\n",
    "print(scores)"
   ]
  },
  {
   "cell_type": "markdown",
   "id": "bd6c9644",
   "metadata": {
    "papermill": {
     "duration": 0.008937,
     "end_time": "2023-06-06T19:51:26.962955",
     "exception": false,
     "start_time": "2023-06-06T19:51:26.954018",
     "status": "completed"
    },
    "tags": []
   },
   "source": [
    "**Initial evaluation of KNN Classifier**  \n",
    "Average value of 96.5%"
   ]
  },
  {
   "cell_type": "code",
   "execution_count": 10,
   "id": "a7fa6b4d",
   "metadata": {
    "execution": {
     "iopub.execute_input": "2023-06-06T19:51:26.982623Z",
     "iopub.status.busy": "2023-06-06T19:51:26.982288Z",
     "iopub.status.idle": "2023-06-06T19:51:26.987893Z",
     "shell.execute_reply": "2023-06-06T19:51:26.987030Z"
    },
    "papermill": {
     "duration": 0.018033,
     "end_time": "2023-06-06T19:51:26.989991",
     "exception": false,
     "start_time": "2023-06-06T19:51:26.971958",
     "status": "completed"
    },
    "tags": []
   },
   "outputs": [
    {
     "data": {
      "text/plain": [
       "0.965857142857143"
      ]
     },
     "execution_count": 10,
     "metadata": {},
     "output_type": "execute_result"
    }
   ],
   "source": [
    "scores.mean()"
   ]
  },
  {
   "cell_type": "markdown",
   "id": "cacdf26b",
   "metadata": {
    "papermill": {
     "duration": 0.009562,
     "end_time": "2023-06-06T19:51:27.008762",
     "exception": false,
     "start_time": "2023-06-06T19:51:26.999200",
     "status": "completed"
    },
    "tags": []
   },
   "source": [
    "# CNN Attempt"
   ]
  },
  {
   "cell_type": "code",
   "execution_count": 11,
   "id": "db938561",
   "metadata": {
    "execution": {
     "iopub.execute_input": "2023-06-06T19:51:27.028740Z",
     "iopub.status.busy": "2023-06-06T19:51:27.028432Z",
     "iopub.status.idle": "2023-06-06T19:51:34.376151Z",
     "shell.execute_reply": "2023-06-06T19:51:34.375241Z"
    },
    "papermill": {
     "duration": 7.360598,
     "end_time": "2023-06-06T19:51:34.378489",
     "exception": false,
     "start_time": "2023-06-06T19:51:27.017891",
     "status": "completed"
    },
    "tags": []
   },
   "outputs": [
    {
     "name": "stderr",
     "output_type": "stream",
     "text": [
      "/opt/conda/lib/python3.10/site-packages/tensorflow_io/python/ops/__init__.py:98: UserWarning: unable to load libtensorflow_io_plugins.so: unable to open file: libtensorflow_io_plugins.so, from paths: ['/opt/conda/lib/python3.10/site-packages/tensorflow_io/python/ops/libtensorflow_io_plugins.so']\n",
      "caused by: ['/opt/conda/lib/python3.10/site-packages/tensorflow_io/python/ops/libtensorflow_io_plugins.so: undefined symbol: _ZN3tsl6StatusC1EN10tensorflow5error4CodeESt17basic_string_viewIcSt11char_traitsIcEENS_14SourceLocationE']\n",
      "  warnings.warn(f\"unable to load libtensorflow_io_plugins.so: {e}\")\n",
      "/opt/conda/lib/python3.10/site-packages/tensorflow_io/python/ops/__init__.py:104: UserWarning: file system plugins are not loaded: unable to open file: libtensorflow_io.so, from paths: ['/opt/conda/lib/python3.10/site-packages/tensorflow_io/python/ops/libtensorflow_io.so']\n",
      "caused by: ['/opt/conda/lib/python3.10/site-packages/tensorflow_io/python/ops/libtensorflow_io.so: undefined symbol: _ZTVN10tensorflow13GcsFileSystemE']\n",
      "  warnings.warn(f\"file system plugins are not loaded: {e}\")\n"
     ]
    }
   ],
   "source": [
    "from tensorflow.keras import datasets, layers, models\n",
    "from tensorflow import keras\n",
    "import tensorflow as tf"
   ]
  },
  {
   "cell_type": "code",
   "execution_count": 12,
   "id": "d53ad8dc",
   "metadata": {
    "execution": {
     "iopub.execute_input": "2023-06-06T19:51:34.399339Z",
     "iopub.status.busy": "2023-06-06T19:51:34.398713Z",
     "iopub.status.idle": "2023-06-06T19:51:38.280720Z",
     "shell.execute_reply": "2023-06-06T19:51:38.279743Z"
    },
    "papermill": {
     "duration": 3.894716,
     "end_time": "2023-06-06T19:51:38.283214",
     "exception": false,
     "start_time": "2023-06-06T19:51:34.388498",
     "status": "completed"
    },
    "tags": []
   },
   "outputs": [],
   "source": [
    "inputs = keras.Input(shape=(784,))\n",
    "#already rescaled from sklearn workflow\n",
    "#x = layers.Rescaling(1./255)\n",
    "x = layers.Reshape((28,28,1))(inputs)\n",
    "x = layers.Conv2D(32,(3,3),activation='relu')(x)\n",
    "x = layers.MaxPool2D((2,2))(x)\n",
    "x = layers.Conv2D(64, (3,3), activation='relu')(x)\n",
    "x = layers.MaxPool2D((2,2))(x)\n",
    "x = layers.Conv2D(128,(3,3), activation='relu')(x)\n",
    "x = layers.Flatten()(x)\n",
    "x = layers.Dense(128, activation='relu')(x)\n",
    "x = layers.Dense(128, activation='relu')(x)\n",
    "x = layers.Dense(128, activation='relu')(x)\n",
    "outputs = layers.Dense(10, activation='softmax')(x)"
   ]
  },
  {
   "cell_type": "code",
   "execution_count": 13,
   "id": "76769304",
   "metadata": {
    "execution": {
     "iopub.execute_input": "2023-06-06T19:51:38.305099Z",
     "iopub.status.busy": "2023-06-06T19:51:38.303666Z",
     "iopub.status.idle": "2023-06-06T19:51:38.315959Z",
     "shell.execute_reply": "2023-06-06T19:51:38.315135Z"
    },
    "papermill": {
     "duration": 0.02536,
     "end_time": "2023-06-06T19:51:38.318026",
     "exception": false,
     "start_time": "2023-06-06T19:51:38.292666",
     "status": "completed"
    },
    "tags": []
   },
   "outputs": [],
   "source": [
    "model = keras.Model(inputs=inputs, outputs=outputs, name=\"mnist_model\")"
   ]
  },
  {
   "cell_type": "code",
   "execution_count": 14,
   "id": "86bcc30b",
   "metadata": {
    "execution": {
     "iopub.execute_input": "2023-06-06T19:51:38.337791Z",
     "iopub.status.busy": "2023-06-06T19:51:38.337522Z",
     "iopub.status.idle": "2023-06-06T19:51:38.369342Z",
     "shell.execute_reply": "2023-06-06T19:51:38.368634Z"
    },
    "papermill": {
     "duration": 0.064423,
     "end_time": "2023-06-06T19:51:38.391774",
     "exception": false,
     "start_time": "2023-06-06T19:51:38.327351",
     "status": "completed"
    },
    "tags": []
   },
   "outputs": [
    {
     "name": "stdout",
     "output_type": "stream",
     "text": [
      "Model: \"mnist_model\"\n",
      "_________________________________________________________________\n",
      " Layer (type)                Output Shape              Param #   \n",
      "=================================================================\n",
      " input_1 (InputLayer)        [(None, 784)]             0         \n",
      "                                                                 \n",
      " reshape (Reshape)           (None, 28, 28, 1)         0         \n",
      "                                                                 \n",
      " conv2d (Conv2D)             (None, 26, 26, 32)        320       \n",
      "                                                                 \n",
      " max_pooling2d (MaxPooling2D  (None, 13, 13, 32)       0         \n",
      " )                                                               \n",
      "                                                                 \n",
      " conv2d_1 (Conv2D)           (None, 11, 11, 64)        18496     \n",
      "                                                                 \n",
      " max_pooling2d_1 (MaxPooling  (None, 5, 5, 64)         0         \n",
      " 2D)                                                             \n",
      "                                                                 \n",
      " conv2d_2 (Conv2D)           (None, 3, 3, 128)         73856     \n",
      "                                                                 \n",
      " flatten (Flatten)           (None, 1152)              0         \n",
      "                                                                 \n",
      " dense (Dense)               (None, 128)               147584    \n",
      "                                                                 \n",
      " dense_1 (Dense)             (None, 128)               16512     \n",
      "                                                                 \n",
      " dense_2 (Dense)             (None, 128)               16512     \n",
      "                                                                 \n",
      " dense_3 (Dense)             (None, 10)                1290      \n",
      "                                                                 \n",
      "=================================================================\n",
      "Total params: 274,570\n",
      "Trainable params: 274,570\n",
      "Non-trainable params: 0\n",
      "_________________________________________________________________\n"
     ]
    }
   ],
   "source": [
    "model.summary()"
   ]
  },
  {
   "cell_type": "code",
   "execution_count": 15,
   "id": "99846788",
   "metadata": {
    "execution": {
     "iopub.execute_input": "2023-06-06T19:51:38.416276Z",
     "iopub.status.busy": "2023-06-06T19:51:38.416001Z",
     "iopub.status.idle": "2023-06-06T19:51:38.577005Z",
     "shell.execute_reply": "2023-06-06T19:51:38.576107Z"
    },
    "papermill": {
     "duration": 0.175973,
     "end_time": "2023-06-06T19:51:38.579397",
     "exception": false,
     "start_time": "2023-06-06T19:51:38.403424",
     "status": "completed"
    },
    "tags": []
   },
   "outputs": [
    {
     "data": {
      "image/png": "[encoded data removed]",
      "text/plain": [
       "<IPython.core.display.Image object>"
      ]
     },
     "execution_count": 15,
     "metadata": {},
     "output_type": "execute_result"
    }
   ],
   "source": [
    "keras.utils.plot_model(model, \"mnist_model.png\")"
   ]
  },
  {
   "cell_type": "code",
   "execution_count": 16,
   "id": "5a061f7c",
   "metadata": {
    "execution": {
     "iopub.execute_input": "2023-06-06T19:51:38.606031Z",
     "iopub.status.busy": "2023-06-06T19:51:38.605750Z",
     "iopub.status.idle": "2023-06-06T19:51:38.623070Z",
     "shell.execute_reply": "2023-06-06T19:51:38.622177Z"
    },
    "papermill": {
     "duration": 0.03278,
     "end_time": "2023-06-06T19:51:38.625015",
     "exception": false,
     "start_time": "2023-06-06T19:51:38.592235",
     "status": "completed"
    },
    "tags": []
   },
   "outputs": [],
   "source": [
    "model.compile(\n",
    "    loss='sparse_categorical_crossentropy',\n",
    "    optimizer='adam',\n",
    "    metrics=['accuracy']\n",
    ")"
   ]
  },
  {
   "cell_type": "markdown",
   "id": "e26029d1",
   "metadata": {
    "papermill": {
     "duration": 0.012056,
     "end_time": "2023-06-06T19:51:38.649625",
     "exception": false,
     "start_time": "2023-06-06T19:51:38.637569",
     "status": "completed"
    },
    "tags": []
   },
   "source": [
    "**Callback**  \n",
    "Looking at past 5 epochs, select best one when val_loss stops improving"
   ]
  },
  {
   "cell_type": "code",
   "execution_count": 17,
   "id": "ee5a12d7",
   "metadata": {
    "execution": {
     "iopub.execute_input": "2023-06-06T19:51:38.675402Z",
     "iopub.status.busy": "2023-06-06T19:51:38.675044Z",
     "iopub.status.idle": "2023-06-06T19:51:38.679518Z",
     "shell.execute_reply": "2023-06-06T19:51:38.678638Z"
    },
    "papermill": {
     "duration": 0.01978,
     "end_time": "2023-06-06T19:51:38.681647",
     "exception": false,
     "start_time": "2023-06-06T19:51:38.661867",
     "status": "completed"
    },
    "tags": []
   },
   "outputs": [],
   "source": [
    "callback = keras.callbacks.EarlyStopping(monitor='val_loss', patience=5, restore_best_weights=True)"
   ]
  },
  {
   "cell_type": "code",
   "execution_count": 18,
   "id": "0e0d12f6",
   "metadata": {
    "execution": {
     "iopub.execute_input": "2023-06-06T19:51:38.708247Z",
     "iopub.status.busy": "2023-06-06T19:51:38.707428Z",
     "iopub.status.idle": "2023-06-06T19:53:01.956765Z",
     "shell.execute_reply": "2023-06-06T19:53:01.955735Z"
    },
    "papermill": {
     "duration": 83.265081,
     "end_time": "2023-06-06T19:53:01.959115",
     "exception": false,
     "start_time": "2023-06-06T19:51:38.694034",
     "status": "completed"
    },
    "tags": []
   },
   "outputs": [
    {
     "name": "stdout",
     "output_type": "stream",
     "text": [
      "Epoch 1/100\n",
      "1050/1050 [==============================] - 16s 6ms/step - loss: 0.2055 - accuracy: 0.9337 - val_loss: 0.0821 - val_accuracy: 0.9754\n",
      "Epoch 2/100\n",
      "1050/1050 [==============================] - 5s 5ms/step - loss: 0.0596 - accuracy: 0.9813 - val_loss: 0.0530 - val_accuracy: 0.9837\n",
      "Epoch 3/100\n",
      "1050/1050 [==============================] - 5s 5ms/step - loss: 0.0433 - accuracy: 0.9867 - val_loss: 0.0476 - val_accuracy: 0.9856\n",
      "Epoch 4/100\n",
      "1050/1050 [==============================] - 5s 5ms/step - loss: 0.0337 - accuracy: 0.9894 - val_loss: 0.0495 - val_accuracy: 0.9851\n",
      "Epoch 5/100\n",
      "1050/1050 [==============================] - 5s 5ms/step - loss: 0.0285 - accuracy: 0.9913 - val_loss: 0.0594 - val_accuracy: 0.9833\n",
      "Epoch 6/100\n",
      "1050/1050 [==============================] - 6s 6ms/step - loss: 0.0210 - accuracy: 0.9936 - val_loss: 0.0455 - val_accuracy: 0.9877\n",
      "Epoch 7/100\n",
      "1050/1050 [==============================] - 5s 5ms/step - loss: 0.0205 - accuracy: 0.9939 - val_loss: 0.0786 - val_accuracy: 0.9836\n",
      "Epoch 8/100\n",
      "1050/1050 [==============================] - 5s 5ms/step - loss: 0.0194 - accuracy: 0.9936 - val_loss: 0.0443 - val_accuracy: 0.9888\n",
      "Epoch 9/100\n",
      "1050/1050 [==============================] - 5s 5ms/step - loss: 0.0135 - accuracy: 0.9959 - val_loss: 0.0537 - val_accuracy: 0.9864\n",
      "Epoch 10/100\n",
      "1050/1050 [==============================] - 5s 5ms/step - loss: 0.0157 - accuracy: 0.9953 - val_loss: 0.0472 - val_accuracy: 0.9876\n",
      "Epoch 11/100\n",
      "1050/1050 [==============================] - 6s 6ms/step - loss: 0.0124 - accuracy: 0.9963 - val_loss: 0.0589 - val_accuracy: 0.9880\n",
      "Epoch 12/100\n",
      "1050/1050 [==============================] - 6s 5ms/step - loss: 0.0104 - accuracy: 0.9971 - val_loss: 0.0610 - val_accuracy: 0.9863\n",
      "Epoch 13/100\n",
      "1050/1050 [==============================] - 6s 5ms/step - loss: 0.0101 - accuracy: 0.9967 - val_loss: 0.0900 - val_accuracy: 0.9864\n"
     ]
    }
   ],
   "source": [
    "history = model.fit(X, y, epochs=100, validation_split=0.2, callbacks=[callback])"
   ]
  },
  {
   "cell_type": "code",
   "execution_count": 19,
   "id": "ee9e10d8",
   "metadata": {
    "execution": {
     "iopub.execute_input": "2023-06-06T19:53:02.190594Z",
     "iopub.status.busy": "2023-06-06T19:53:02.190238Z",
     "iopub.status.idle": "2023-06-06T19:53:02.272968Z",
     "shell.execute_reply": "2023-06-06T19:53:02.271957Z"
    },
    "papermill": {
     "duration": 0.190807,
     "end_time": "2023-06-06T19:53:02.275485",
     "exception": false,
     "start_time": "2023-06-06T19:53:02.084678",
     "status": "completed"
    },
    "tags": []
   },
   "outputs": [],
   "source": [
    "test /= 255"
   ]
  },
  {
   "cell_type": "code",
   "execution_count": 20,
   "id": "112287d8",
   "metadata": {
    "execution": {
     "iopub.execute_input": "2023-06-06T19:53:02.501544Z",
     "iopub.status.busy": "2023-06-06T19:53:02.501107Z",
     "iopub.status.idle": "2023-06-06T19:54:05.475186Z",
     "shell.execute_reply": "2023-06-06T19:54:05.474173Z"
    },
    "papermill": {
     "duration": 63.085381,
     "end_time": "2023-06-06T19:54:05.477596",
     "exception": false,
     "start_time": "2023-06-06T19:53:02.392215",
     "status": "completed"
    },
    "tags": []
   },
   "outputs": [
    {
     "name": "stdout",
     "output_type": "stream",
     "text": [
      "875/875 [==============================] - 2s 2ms/step\n"
     ]
    }
   ],
   "source": [
    "y_pred = model.predict(test)"
   ]
  },
  {
   "cell_type": "code",
   "execution_count": 21,
   "id": "a54e4fca",
   "metadata": {
    "execution": {
     "iopub.execute_input": "2023-06-06T19:54:05.690586Z",
     "iopub.status.busy": "2023-06-06T19:54:05.689936Z",
     "iopub.status.idle": "2023-06-06T19:54:05.702272Z",
     "shell.execute_reply": "2023-06-06T19:54:05.701193Z"
    },
    "papermill": {
     "duration": 0.120008,
     "end_time": "2023-06-06T19:54:05.704430",
     "exception": false,
     "start_time": "2023-06-06T19:54:05.584422",
     "status": "completed"
    },
    "tags": []
   },
   "outputs": [
    {
     "data": {
      "text/plain": [
       "<tf.Tensor: shape=(28000,), dtype=int64, numpy=array([2, 0, 9, ..., 3, 9, 2])>"
      ]
     },
     "execution_count": 21,
     "metadata": {},
     "output_type": "execute_result"
    }
   ],
   "source": [
    "y_pred_cls = tf.argmax(y_pred, axis=1)\n",
    "y_pred_cls"
   ]
  },
  {
   "cell_type": "code",
   "execution_count": 22,
   "id": "9318d53c",
   "metadata": {
    "execution": {
     "iopub.execute_input": "2023-06-06T19:54:05.929145Z",
     "iopub.status.busy": "2023-06-06T19:54:05.927359Z",
     "iopub.status.idle": "2023-06-06T19:54:05.932809Z",
     "shell.execute_reply": "2023-06-06T19:54:05.931885Z"
    },
    "papermill": {
     "duration": 0.115473,
     "end_time": "2023-06-06T19:54:05.934952",
     "exception": false,
     "start_time": "2023-06-06T19:54:05.819479",
     "status": "completed"
    },
    "tags": []
   },
   "outputs": [],
   "source": [
    "from matplotlib import pyplot as plt"
   ]
  },
  {
   "cell_type": "code",
   "execution_count": 23,
   "id": "307ca9c4",
   "metadata": {
    "execution": {
     "iopub.execute_input": "2023-06-06T19:54:06.149908Z",
     "iopub.status.busy": "2023-06-06T19:54:06.149592Z",
     "iopub.status.idle": "2023-06-06T19:54:08.461074Z",
     "shell.execute_reply": "2023-06-06T19:54:08.460165Z"
    },
    "papermill": {
     "duration": 2.422906,
     "end_time": "2023-06-06T19:54:08.463342",
     "exception": false,
     "start_time": "2023-06-06T19:54:06.040436",
     "status": "completed"
    },
    "tags": []
   },
   "outputs": [
    {
     "name": "stdout",
     "output_type": "stream",
     "text": [
      "tf.Tensor(2, shape=(), dtype=int64)\n"
     ]
    },
    {
     "data": {
      "image/png": "[encoded data removed]",
      "text/plain": [
       "<Figure size 640x480 with 1 Axes>"
      ]
     },
     "metadata": {},
     "output_type": "display_data"
    },
    {
     "name": "stdout",
     "output_type": "stream",
     "text": [
      "tf.Tensor(0, shape=(), dtype=int64)\n"
     ]
    },
    {
     "data": {
      "image/png": "[encoded data removed]",
      "text/plain": [
       "<Figure size 640x480 with 1 Axes>"
      ]
     },
     "metadata": {},
     "output_type": "display_data"
    },
    {
     "name": "stdout",
     "output_type": "stream",
     "text": [
      "tf.Tensor(9, shape=(), dtype=int64)\n"
     ]
    },
    {
     "data": {
      "image/png": "[encoded data removed]",
      "text/plain": [
       "<Figure size 640x480 with 1 Axes>"
      ]
     },
     "metadata": {},
     "output_type": "display_data"
    },
    {
     "name": "stdout",
     "output_type": "stream",
     "text": [
      "tf.Tensor(9, shape=(), dtype=int64)\n"
     ]
    },
    {
     "data": {
      "image/png": "[encoded data removed]",
      "text/plain": [
       "<Figure size 640x480 with 1 Axes>"
      ]
     },
     "metadata": {},
     "output_type": "display_data"
    },
    {
     "name": "stdout",
     "output_type": "stream",
     "text": [
      "tf.Tensor(3, shape=(), dtype=int64)\n"
     ]
    },
    {
     "data": {
      "image/png": "[encoded data removed]",
      "text/plain": [
       "<Figure size 640x480 with 1 Axes>"
      ]
     },
     "metadata": {},
     "output_type": "display_data"
    },
    {
     "name": "stdout",
     "output_type": "stream",
     "text": [
      "tf.Tensor(7, shape=(), dtype=int64)\n"
     ]
    },
    {
     "data": {
      "image/png": "[encoded data removed]",
      "text/plain": [
       "<Figure size 640x480 with 1 Axes>"
      ]
     },
     "metadata": {},
     "output_type": "display_data"
    },
    {
     "name": "stdout",
     "output_type": "stream",
     "text": [
      "tf.Tensor(0, shape=(), dtype=int64)\n"
     ]
    },
    {
     "data": {
      "image/png": "[encoded data removed]",
      "text/plain": [
       "<Figure size 640x480 with 1 Axes>"
      ]
     },
     "metadata": {},
     "output_type": "display_data"
    },
    {
     "name": "stdout",
     "output_type": "stream",
     "text": [
      "tf.Tensor(3, shape=(), dtype=int64)\n"
     ]
    },
    {
     "data": {
      "image/png": "[encoded data removed]",
      "text/plain": [
       "<Figure size 640x480 with 1 Axes>"
      ]
     },
     "metadata": {},
     "output_type": "display_data"
    },
    {
     "name": "stdout",
     "output_type": "stream",
     "text": [
      "tf.Tensor(0, shape=(), dtype=int64)\n"
     ]
    },
    {
     "data": {
      "image/png": "[encoded data removed]",
      "text/plain": [
       "<Figure size 640x480 with 1 Axes>"
      ]
     },
     "metadata": {},
     "output_type": "display_data"
    },
    {
     "name": "stdout",
     "output_type": "stream",
     "text": [
      "tf.Tensor(3, shape=(), dtype=int64)\n"
     ]
    },
    {
     "data": {
      "image/png": "[encoded data removed]",
      "text/plain": [
       "<Figure size 640x480 with 1 Axes>"
      ]
     },
     "metadata": {},
     "output_type": "display_data"
    }
   ],
   "source": [
    "for i in range(0,10):\n",
    "    print(y_pred_cls[i])\n",
    "    image = np.array(test.iloc[i], dtype='float')\n",
    "    pixels = image.reshape((28, 28))\n",
    "    plt.imshow(pixels, cmap='gray')\n",
    "    plt.show()"
   ]
  },
  {
   "cell_type": "code",
   "execution_count": 24,
   "id": "4ee731b0",
   "metadata": {
    "execution": {
     "iopub.execute_input": "2023-06-06T19:54:08.686651Z",
     "iopub.status.busy": "2023-06-06T19:54:08.686276Z",
     "iopub.status.idle": "2023-06-06T19:54:08.692431Z",
     "shell.execute_reply": "2023-06-06T19:54:08.691525Z"
    },
    "papermill": {
     "duration": 0.121481,
     "end_time": "2023-06-06T19:54:08.694587",
     "exception": false,
     "start_time": "2023-06-06T19:54:08.573106",
     "status": "completed"
    },
    "tags": []
   },
   "outputs": [],
   "source": [
    "ans = pd.DataFrame(y_pred_cls)"
   ]
  },
  {
   "cell_type": "code",
   "execution_count": 25,
   "id": "3b2f4938",
   "metadata": {
    "execution": {
     "iopub.execute_input": "2023-06-06T19:54:08.918104Z",
     "iopub.status.busy": "2023-06-06T19:54:08.917783Z",
     "iopub.status.idle": "2023-06-06T19:54:08.944580Z",
     "shell.execute_reply": "2023-06-06T19:54:08.943164Z"
    },
    "papermill": {
     "duration": 0.140124,
     "end_time": "2023-06-06T19:54:08.946706",
     "exception": false,
     "start_time": "2023-06-06T19:54:08.806582",
     "status": "completed"
    },
    "tags": []
   },
   "outputs": [
    {
     "data": {
      "text/html": [
       "<div>\n",
       "<style scoped>\n",
       "    .dataframe tbody tr th:only-of-type {\n",
       "        vertical-align: middle;\n",
       "    }\n",
       "\n",
       "    .dataframe tbody tr th {\n",
       "        vertical-align: top;\n",
       "    }\n",
       "\n",
       "    .dataframe thead th {\n",
       "        text-align: right;\n",
       "    }\n",
       "</style>\n",
       "<table border=\"1\" class=\"dataframe\">\n",
       "  <thead>\n",
       "    <tr style=\"text-align: right;\">\n",
       "      <th></th>\n",
       "      <th>ImageId</th>\n",
       "      <th>Label</th>\n",
       "    </tr>\n",
       "  </thead>\n",
       "  <tbody>\n",
       "    <tr>\n",
       "      <th>0</th>\n",
       "      <td>1</td>\n",
       "      <td>0</td>\n",
       "    </tr>\n",
       "    <tr>\n",
       "      <th>1</th>\n",
       "      <td>2</td>\n",
       "      <td>0</td>\n",
       "    </tr>\n",
       "    <tr>\n",
       "      <th>2</th>\n",
       "      <td>3</td>\n",
       "      <td>0</td>\n",
       "    </tr>\n",
       "    <tr>\n",
       "      <th>3</th>\n",
       "      <td>4</td>\n",
       "      <td>0</td>\n",
       "    </tr>\n",
       "    <tr>\n",
       "      <th>4</th>\n",
       "      <td>5</td>\n",
       "      <td>0</td>\n",
       "    </tr>\n",
       "    <tr>\n",
       "      <th>...</th>\n",
       "      <td>...</td>\n",
       "      <td>...</td>\n",
       "    </tr>\n",
       "    <tr>\n",
       "      <th>27995</th>\n",
       "      <td>27996</td>\n",
       "      <td>0</td>\n",
       "    </tr>\n",
       "    <tr>\n",
       "      <th>27996</th>\n",
       "      <td>27997</td>\n",
       "      <td>0</td>\n",
       "    </tr>\n",
       "    <tr>\n",
       "      <th>27997</th>\n",
       "      <td>27998</td>\n",
       "      <td>0</td>\n",
       "    </tr>\n",
       "    <tr>\n",
       "      <th>27998</th>\n",
       "      <td>27999</td>\n",
       "      <td>0</td>\n",
       "    </tr>\n",
       "    <tr>\n",
       "      <th>27999</th>\n",
       "      <td>28000</td>\n",
       "      <td>0</td>\n",
       "    </tr>\n",
       "  </tbody>\n",
       "</table>\n",
       "<p>28000 rows × 2 columns</p>\n",
       "</div>"
      ],
      "text/plain": [
       "       ImageId  Label\n",
       "0            1      0\n",
       "1            2      0\n",
       "2            3      0\n",
       "3            4      0\n",
       "4            5      0\n",
       "...        ...    ...\n",
       "27995    27996      0\n",
       "27996    27997      0\n",
       "27997    27998      0\n",
       "27998    27999      0\n",
       "27999    28000      0\n",
       "\n",
       "[28000 rows x 2 columns]"
      ]
     },
     "execution_count": 25,
     "metadata": {},
     "output_type": "execute_result"
    }
   ],
   "source": [
    "pd.read_csv(\"/kaggle/input/digit-recognizer/sample_submission.csv\")"
   ]
  },
  {
   "cell_type": "code",
   "execution_count": 26,
   "id": "52eeff22",
   "metadata": {
    "execution": {
     "iopub.execute_input": "2023-06-06T19:54:09.170135Z",
     "iopub.status.busy": "2023-06-06T19:54:09.169798Z",
     "iopub.status.idle": "2023-06-06T19:54:09.176043Z",
     "shell.execute_reply": "2023-06-06T19:54:09.175131Z"
    },
    "papermill": {
     "duration": 0.120564,
     "end_time": "2023-06-06T19:54:09.178057",
     "exception": false,
     "start_time": "2023-06-06T19:54:09.057493",
     "status": "completed"
    },
    "tags": []
   },
   "outputs": [],
   "source": [
    "ans[\"ImageId\"] = ans.index + 1 "
   ]
  },
  {
   "cell_type": "code",
   "execution_count": 27,
   "id": "c01ba6cf",
   "metadata": {
    "execution": {
     "iopub.execute_input": "2023-06-06T19:54:09.405687Z",
     "iopub.status.busy": "2023-06-06T19:54:09.405356Z",
     "iopub.status.idle": "2023-06-06T19:54:09.421781Z",
     "shell.execute_reply": "2023-06-06T19:54:09.420821Z"
    },
    "papermill": {
     "duration": 0.134925,
     "end_time": "2023-06-06T19:54:09.424288",
     "exception": false,
     "start_time": "2023-06-06T19:54:09.289363",
     "status": "completed"
    },
    "tags": []
   },
   "outputs": [
    {
     "data": {
      "text/html": [
       "<div>\n",
       "<style scoped>\n",
       "    .dataframe tbody tr th:only-of-type {\n",
       "        vertical-align: middle;\n",
       "    }\n",
       "\n",
       "    .dataframe tbody tr th {\n",
       "        vertical-align: top;\n",
       "    }\n",
       "\n",
       "    .dataframe thead th {\n",
       "        text-align: right;\n",
       "    }\n",
       "</style>\n",
       "<table border=\"1\" class=\"dataframe\">\n",
       "  <thead>\n",
       "    <tr style=\"text-align: right;\">\n",
       "      <th></th>\n",
       "      <th>ImageId</th>\n",
       "      <th>Label</th>\n",
       "    </tr>\n",
       "  </thead>\n",
       "  <tbody>\n",
       "    <tr>\n",
       "      <th>0</th>\n",
       "      <td>1</td>\n",
       "      <td>2</td>\n",
       "    </tr>\n",
       "    <tr>\n",
       "      <th>1</th>\n",
       "      <td>2</td>\n",
       "      <td>0</td>\n",
       "    </tr>\n",
       "    <tr>\n",
       "      <th>2</th>\n",
       "      <td>3</td>\n",
       "      <td>9</td>\n",
       "    </tr>\n",
       "    <tr>\n",
       "      <th>3</th>\n",
       "      <td>4</td>\n",
       "      <td>9</td>\n",
       "    </tr>\n",
       "    <tr>\n",
       "      <th>4</th>\n",
       "      <td>5</td>\n",
       "      <td>3</td>\n",
       "    </tr>\n",
       "    <tr>\n",
       "      <th>...</th>\n",
       "      <td>...</td>\n",
       "      <td>...</td>\n",
       "    </tr>\n",
       "    <tr>\n",
       "      <th>27995</th>\n",
       "      <td>27996</td>\n",
       "      <td>9</td>\n",
       "    </tr>\n",
       "    <tr>\n",
       "      <th>27996</th>\n",
       "      <td>27997</td>\n",
       "      <td>7</td>\n",
       "    </tr>\n",
       "    <tr>\n",
       "      <th>27997</th>\n",
       "      <td>27998</td>\n",
       "      <td>3</td>\n",
       "    </tr>\n",
       "    <tr>\n",
       "      <th>27998</th>\n",
       "      <td>27999</td>\n",
       "      <td>9</td>\n",
       "    </tr>\n",
       "    <tr>\n",
       "      <th>27999</th>\n",
       "      <td>28000</td>\n",
       "      <td>2</td>\n",
       "    </tr>\n",
       "  </tbody>\n",
       "</table>\n",
       "<p>28000 rows × 2 columns</p>\n",
       "</div>"
      ],
      "text/plain": [
       "       ImageId  Label\n",
       "0            1      2\n",
       "1            2      0\n",
       "2            3      9\n",
       "3            4      9\n",
       "4            5      3\n",
       "...        ...    ...\n",
       "27995    27996      9\n",
       "27996    27997      7\n",
       "27997    27998      3\n",
       "27998    27999      9\n",
       "27999    28000      2\n",
       "\n",
       "[28000 rows x 2 columns]"
      ]
     },
     "execution_count": 27,
     "metadata": {},
     "output_type": "execute_result"
    }
   ],
   "source": [
    "ans = ans.rename(columns={0:\"Label\"})[[\"ImageId\",\"Label\"]]\n",
    "ans"
   ]
  },
  {
   "cell_type": "code",
   "execution_count": 28,
   "id": "fbe77673",
   "metadata": {
    "execution": {
     "iopub.execute_input": "2023-06-06T19:54:09.662241Z",
     "iopub.status.busy": "2023-06-06T19:54:09.661904Z",
     "iopub.status.idle": "2023-06-06T19:54:09.721563Z",
     "shell.execute_reply": "2023-06-06T19:54:09.720632Z"
    },
    "papermill": {
     "duration": 0.173923,
     "end_time": "2023-06-06T19:54:09.723855",
     "exception": false,
     "start_time": "2023-06-06T19:54:09.549932",
     "status": "completed"
    },
    "tags": []
   },
   "outputs": [],
   "source": [
    "ans.to_csv(\"submissions.csv\",index=False)"
   ]
  }
 ],
 "metadata": {
  "kernelspec": {
   "display_name": "Python 3",
   "language": "python",
   "name": "python3"
  },
  "language_info": {
   "codemirror_mode": {
    "name": "ipython",
    "version": 3
   },
   "file_extension": ".py",
   "mimetype": "text/x-python",
   "name": "python",
   "nbconvert_exporter": "python",
   "pygments_lexer": "ipython3",
   "version": "3.10.10"
  },
  "papermill": {
   "default_parameters": {},
   "duration": 237.820629,
   "end_time": "2023-06-06T19:54:12.813462",
   "environment_variables": {},
   "exception": null,
   "input_path": "__notebook__.ipynb",
   "output_path": "__notebook__.ipynb",
   "parameters": {},
   "start_time": "2023-06-06T19:50:14.992833",
   "version": "2.4.0"
  }
 },
 "nbformat": 4,
 "nbformat_minor": 5
}
